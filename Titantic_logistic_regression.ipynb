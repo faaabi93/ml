{
  "nbformat": 4,
  "nbformat_minor": 0,
  "metadata": {
    "colab": {
      "name": "Titantic.ipynb",
      "provenance": [],
      "authorship_tag": "ABX9TyONv7ubgHUXlyduuKfZNqIH"
    },
    "kernelspec": {
      "name": "python3",
      "display_name": "Python 3"
    }
  },
  "cells": [
    {
      "cell_type": "markdown",
      "metadata": {
        "id": "yUg4uBEG72IM",
        "colab_type": "text"
      },
      "source": [
        "# Titanic - Learning from disaster\n",
        "\n",
        "## The Callenge\n",
        "\n",
        "The sinking of the Titanic is one of the most infamous shipwrecks in history.\n",
        "\n",
        "On April 15, 1912, during her maiden voyage, the widely considered “unsinkable” RMS Titanic sank after colliding with an iceberg. Unfortunately, there weren’t enough lifeboats for everyone onboard, resulting in the death of 1502 out of 2224 passengers and crew.\n",
        "\n",
        "While there was some element of luck involved in surviving, it seems some groups of people were more likely to survive than others.\n",
        "\n",
        "In this challenge, we ask you to build a predictive model that answers the question: “what sorts of people were more likely to survive?” using passenger data (ie name, age, gender, socio-economic class, etc). "
      ]
    },
    {
      "cell_type": "markdown",
      "metadata": {
        "id": "_MGJ6d8m8GRi",
        "colab_type": "text"
      },
      "source": [
        "## What Data Will I Use in This Competition?\n",
        "\n",
        "In this competition, you’ll gain access to two similar datasets that include passenger information like name, age, gender, socio-economic class, etc. One dataset is titled `train.csv` and the other is titled `test.csv`.\n",
        "\n",
        "Train.csv will contain the details of a subset of the passengers on board (891 to be exact) and importantly, will reveal whether they survived or not, also known as the “ground truth”.\n",
        "\n",
        "The `test.csv` dataset contains similar information but does not disclose the “ground truth” for each passenger. It’s your job to predict these outcomes.\n",
        "\n",
        "Using the patterns you find in the train.csv data, predict whether the other 418 passengers on board (found in test.csv) survived.\n",
        "\n",
        "Check out the [“Data” tab](https://www.kaggle.com/c/titanic/data) to explore the datasets even further. Once you feel you’ve created a competitive model, submit it to Kaggle to see where your model stands on our leaderboard against other Kagglers."
      ]
    },
    {
      "cell_type": "markdown",
      "metadata": {
        "id": "TQT7s4A2L-oa",
        "colab_type": "text"
      },
      "source": [
        "## Imports"
      ]
    },
    {
      "cell_type": "code",
      "metadata": {
        "id": "LEMptacV7zER",
        "colab_type": "code",
        "colab": {
          "base_uri": "https://localhost:8080/",
          "height": 53
        },
        "outputId": "28a5d743-b3ed-4795-d8cb-f2b0b5b3275f"
      },
      "source": [
        "import pandas as pd\n",
        "import numpy as np\n",
        "import matplotlib.pyplot as plt\n",
        "import seaborn as sns\n",
        "from sklearn.linear_model import LogisticRegression\n",
        "from sklearn.model_selection import train_test_split\n",
        "from sklearn.preprocessing import StandardScaler\n",
        "\n",
        "# Show all columns\n",
        "pd.set_option('display.expand_frame_repr', False)"
      ],
      "execution_count": 38,
      "outputs": [
        {
          "output_type": "stream",
          "text": [
            "/usr/local/lib/python3.6/dist-packages/statsmodels/tools/_testing.py:19: FutureWarning: pandas.util.testing is deprecated. Use the functions in the public API at pandas.testing instead.\n",
            "  import pandas.util.testing as tm\n"
          ],
          "name": "stderr"
        }
      ]
    },
    {
      "cell_type": "markdown",
      "metadata": {
        "id": "J3i1cvwLMFZ5",
        "colab_type": "text"
      },
      "source": [
        "## Loading the data\n",
        "\n",
        "I found no way of reading the data from kaggle directly, so I stored them in my GitHub-Repo."
      ]
    },
    {
      "cell_type": "code",
      "metadata": {
        "id": "m5wIQREcM3jc",
        "colab_type": "code",
        "colab": {}
      },
      "source": [
        "train_data = pd.read_csv(\"https://raw.githubusercontent.com/faaabi93/ml/master/titanic/train.csv\")\n",
        "test_data = pd.read_csv(\"https://raw.githubusercontent.com/faaabi93/ml/master/titanic/test.csv\")"
      ],
      "execution_count": 0,
      "outputs": []
    },
    {
      "cell_type": "code",
      "metadata": {
        "id": "51Y7x6D7NFoG",
        "colab_type": "code",
        "colab": {
          "base_uri": "https://localhost:8080/",
          "height": 571
        },
        "outputId": "61d5f5e7-96a9-4dc9-cdbf-36bcae032485"
      },
      "source": [
        "print(train_data.head(10))\n",
        "print(train_data.info())"
      ],
      "execution_count": 3,
      "outputs": [
        {
          "output_type": "stream",
          "text": [
            "   PassengerId  Survived  Pclass                                               Name     Sex   Age  SibSp  Parch            Ticket     Fare Cabin Embarked\n",
            "0            1         0       3                            Braund, Mr. Owen Harris    male  22.0      1      0         A/5 21171   7.2500   NaN        S\n",
            "1            2         1       1  Cumings, Mrs. John Bradley (Florence Briggs Th...  female  38.0      1      0          PC 17599  71.2833   C85        C\n",
            "2            3         1       3                             Heikkinen, Miss. Laina  female  26.0      0      0  STON/O2. 3101282   7.9250   NaN        S\n",
            "3            4         1       1       Futrelle, Mrs. Jacques Heath (Lily May Peel)  female  35.0      1      0            113803  53.1000  C123        S\n",
            "4            5         0       3                           Allen, Mr. William Henry    male  35.0      0      0            373450   8.0500   NaN        S\n",
            "5            6         0       3                                   Moran, Mr. James    male   NaN      0      0            330877   8.4583   NaN        Q\n",
            "6            7         0       1                            McCarthy, Mr. Timothy J    male  54.0      0      0             17463  51.8625   E46        S\n",
            "7            8         0       3                     Palsson, Master. Gosta Leonard    male   2.0      3      1            349909  21.0750   NaN        S\n",
            "8            9         1       3  Johnson, Mrs. Oscar W (Elisabeth Vilhelmina Berg)  female  27.0      0      2            347742  11.1333   NaN        S\n",
            "9           10         1       2                Nasser, Mrs. Nicholas (Adele Achem)  female  14.0      1      0            237736  30.0708   NaN        C\n",
            "<class 'pandas.core.frame.DataFrame'>\n",
            "RangeIndex: 891 entries, 0 to 890\n",
            "Data columns (total 12 columns):\n",
            " #   Column       Non-Null Count  Dtype  \n",
            "---  ------       --------------  -----  \n",
            " 0   PassengerId  891 non-null    int64  \n",
            " 1   Survived     891 non-null    int64  \n",
            " 2   Pclass       891 non-null    int64  \n",
            " 3   Name         891 non-null    object \n",
            " 4   Sex          891 non-null    object \n",
            " 5   Age          714 non-null    float64\n",
            " 6   SibSp        891 non-null    int64  \n",
            " 7   Parch        891 non-null    int64  \n",
            " 8   Ticket       891 non-null    object \n",
            " 9   Fare         891 non-null    float64\n",
            " 10  Cabin        204 non-null    object \n",
            " 11  Embarked     889 non-null    object \n",
            "dtypes: float64(2), int64(5), object(5)\n",
            "memory usage: 83.7+ KB\n",
            "None\n"
          ],
          "name": "stdout"
        }
      ]
    },
    {
      "cell_type": "code",
      "metadata": {
        "id": "QA4hP0_cNKPr",
        "colab_type": "code",
        "colab": {
          "base_uri": "https://localhost:8080/",
          "height": 553
        },
        "outputId": "6bf17855-27a8-4ae9-9873-4265a7556d65"
      },
      "source": [
        "print(test_data.head(10))\n",
        "print(test_data.info())"
      ],
      "execution_count": 4,
      "outputs": [
        {
          "output_type": "stream",
          "text": [
            "   PassengerId  Pclass                                          Name     Sex   Age  SibSp  Parch     Ticket     Fare Cabin Embarked\n",
            "0          892       3                              Kelly, Mr. James    male  34.5      0      0     330911   7.8292   NaN        Q\n",
            "1          893       3              Wilkes, Mrs. James (Ellen Needs)  female  47.0      1      0     363272   7.0000   NaN        S\n",
            "2          894       2                     Myles, Mr. Thomas Francis    male  62.0      0      0     240276   9.6875   NaN        Q\n",
            "3          895       3                              Wirz, Mr. Albert    male  27.0      0      0     315154   8.6625   NaN        S\n",
            "4          896       3  Hirvonen, Mrs. Alexander (Helga E Lindqvist)  female  22.0      1      1    3101298  12.2875   NaN        S\n",
            "5          897       3                    Svensson, Mr. Johan Cervin    male  14.0      0      0       7538   9.2250   NaN        S\n",
            "6          898       3                          Connolly, Miss. Kate  female  30.0      0      0     330972   7.6292   NaN        Q\n",
            "7          899       2                  Caldwell, Mr. Albert Francis    male  26.0      1      1     248738  29.0000   NaN        S\n",
            "8          900       3     Abrahim, Mrs. Joseph (Sophie Halaut Easu)  female  18.0      0      0       2657   7.2292   NaN        C\n",
            "9          901       3                       Davies, Mr. John Samuel    male  21.0      2      0  A/4 48871  24.1500   NaN        S\n",
            "<class 'pandas.core.frame.DataFrame'>\n",
            "RangeIndex: 418 entries, 0 to 417\n",
            "Data columns (total 11 columns):\n",
            " #   Column       Non-Null Count  Dtype  \n",
            "---  ------       --------------  -----  \n",
            " 0   PassengerId  418 non-null    int64  \n",
            " 1   Pclass       418 non-null    int64  \n",
            " 2   Name         418 non-null    object \n",
            " 3   Sex          418 non-null    object \n",
            " 4   Age          332 non-null    float64\n",
            " 5   SibSp        418 non-null    int64  \n",
            " 6   Parch        418 non-null    int64  \n",
            " 7   Ticket       418 non-null    object \n",
            " 8   Fare         417 non-null    float64\n",
            " 9   Cabin        91 non-null     object \n",
            " 10  Embarked     418 non-null    object \n",
            "dtypes: float64(2), int64(4), object(5)\n",
            "memory usage: 36.0+ KB\n",
            "None\n"
          ],
          "name": "stdout"
        }
      ]
    },
    {
      "cell_type": "markdown",
      "metadata": {
        "id": "z44GSL4eN9QI",
        "colab_type": "text"
      },
      "source": [
        "##Data Cleaning\n"
      ]
    },
    {
      "cell_type": "markdown",
      "metadata": {
        "id": "-S9SB9tIOBLM",
        "colab_type": "text"
      },
      "source": [
        "Reviewing the data to check if any aberrant or non-acceptable data inputs appear in the data. An Age of 800 should be corrected.\n",
        "\n",
        "As we can see in the `df.info()` above, the Age needs to be corrected in both DataFrames.  \n",
        "Also there seems to be a Fare value missing in the `test_data`.  \n",
        "  \n",
        "There also seems to be data, which we can straight out delete from our DataFrames."
      ]
    },
    {
      "cell_type": "code",
      "metadata": {
        "id": "nKz6CIthPoe1",
        "colab_type": "code",
        "colab": {
          "base_uri": "https://localhost:8080/",
          "height": 750
        },
        "outputId": "26370854-c6de-47fa-e016-e29ce16613ed"
      },
      "source": [
        "data = [train_data, test_data]\n",
        "columns_to_drop = [\"PassengerId\", \"Ticket\", \"Cabin\", \"SibSp\", \"Parch\", \"Embarked\"]\n",
        "\n",
        "for d in data:\n",
        "  d[\"Age\"].fillna(d[\"Age\"].median(), inplace=True)\n",
        "  d[\"Fare\"].fillna(d[\"Fare\"].median(), inplace=True)\n",
        "  d[\"Gender\"] = [1 if (i == \"male\") else 0 for i in d[\"Sex\"]]\n",
        "  d.drop(columns_to_drop, inplace=True, axis=1)\n",
        "\n",
        "\n",
        "for d in data:\n",
        "  print(d.head(5))\n",
        "  print(d.info())"
      ],
      "execution_count": 5,
      "outputs": [
        {
          "output_type": "stream",
          "text": [
            "   Survived  Pclass                                               Name     Sex   Age     Fare  Gender\n",
            "0         0       3                            Braund, Mr. Owen Harris    male  22.0   7.2500       1\n",
            "1         1       1  Cumings, Mrs. John Bradley (Florence Briggs Th...  female  38.0  71.2833       0\n",
            "2         1       3                             Heikkinen, Miss. Laina  female  26.0   7.9250       0\n",
            "3         1       1       Futrelle, Mrs. Jacques Heath (Lily May Peel)  female  35.0  53.1000       0\n",
            "4         0       3                           Allen, Mr. William Henry    male  35.0   8.0500       1\n",
            "<class 'pandas.core.frame.DataFrame'>\n",
            "RangeIndex: 891 entries, 0 to 890\n",
            "Data columns (total 7 columns):\n",
            " #   Column    Non-Null Count  Dtype  \n",
            "---  ------    --------------  -----  \n",
            " 0   Survived  891 non-null    int64  \n",
            " 1   Pclass    891 non-null    int64  \n",
            " 2   Name      891 non-null    object \n",
            " 3   Sex       891 non-null    object \n",
            " 4   Age       891 non-null    float64\n",
            " 5   Fare      891 non-null    float64\n",
            " 6   Gender    891 non-null    int64  \n",
            "dtypes: float64(2), int64(3), object(2)\n",
            "memory usage: 48.9+ KB\n",
            "None\n",
            "   Pclass                                          Name     Sex   Age     Fare  Gender\n",
            "0       3                              Kelly, Mr. James    male  34.5   7.8292       1\n",
            "1       3              Wilkes, Mrs. James (Ellen Needs)  female  47.0   7.0000       0\n",
            "2       2                     Myles, Mr. Thomas Francis    male  62.0   9.6875       1\n",
            "3       3                              Wirz, Mr. Albert    male  27.0   8.6625       1\n",
            "4       3  Hirvonen, Mrs. Alexander (Helga E Lindqvist)  female  22.0  12.2875       0\n",
            "<class 'pandas.core.frame.DataFrame'>\n",
            "RangeIndex: 418 entries, 0 to 417\n",
            "Data columns (total 6 columns):\n",
            " #   Column  Non-Null Count  Dtype  \n",
            "---  ------  --------------  -----  \n",
            " 0   Pclass  418 non-null    int64  \n",
            " 1   Name    418 non-null    object \n",
            " 2   Sex     418 non-null    object \n",
            " 3   Age     418 non-null    float64\n",
            " 4   Fare    418 non-null    float64\n",
            " 5   Gender  418 non-null    int64  \n",
            "dtypes: float64(2), int64(2), object(2)\n",
            "memory usage: 19.7+ KB\n",
            "None\n"
          ],
          "name": "stdout"
        }
      ]
    },
    {
      "cell_type": "markdown",
      "metadata": {
        "id": "24lATmqeRfGe",
        "colab_type": "text"
      },
      "source": [
        "## Visualizing the data"
      ]
    },
    {
      "cell_type": "code",
      "metadata": {
        "id": "9XoEHu7mResj",
        "colab_type": "code",
        "colab": {
          "base_uri": "https://localhost:8080/",
          "height": 748
        },
        "outputId": "dedc0fc7-7b4e-4a05-968b-4e1d3cf46c2d"
      },
      "source": [
        "plt.figure(figsize=[20,12])\n",
        "\n",
        "plt.subplot(241)\n",
        "plt.boxplot(x = train_data[\"Age\"])\n",
        "plt.title(\"Age Distribution\")\n",
        "plt.ylabel(\"Age\")\n",
        "\n",
        "plt.subplot(242)\n",
        "plt.boxplot(x = train_data[\"Fare\"])\n",
        "plt.title(\"Fare Distribution\")\n",
        "plt.ylabel(\"Fare\")\n",
        "\n",
        "plt.subplot(243)\n",
        "# 1 = male; 0 = female\n",
        "plt.boxplot(x = [train_data[train_data[\"Gender\"] == 0][\"Age\"], train_data[train_data[\"Gender\"] == 1][\"Age\"]])\n",
        "plt.title(\"Age Distribution by Gende \")\n",
        "plt.ylabel(\"Age\")\n",
        "\n",
        "plt.subplot(244)\n",
        "# 1 = male; 0 = female\n",
        "plt.boxplot(x = [train_data[train_data[\"Pclass\"] == 1][\"Age\"], train_data[train_data[\"Pclass\"] == 2][\"Age\"], train_data[train_data[\"Pclass\"] == 3][\"Age\"]])\n",
        "plt.title(\"Age Distribution by Class\")\n",
        "plt.ylabel(\"Age\")\n",
        "plt.xlabel(\"Class\")\n",
        "\n",
        "plt.subplot(245)\n",
        "plt.hist(x = [train_data[train_data[\"Survived\"] == 1][\"Age\"], train_data[train_data[\"Survived\"] == 0][\"Age\"]], stacked=True, color=[\"green\", \"red\"], label=[\"survived\", \"died\"])\n",
        "plt.title(\"Age Histogramm (Survival)\")\n",
        "plt.ylabel(\"Number of Passangers\")\n",
        "plt.xlabel(\"Age\")\n",
        "plt.legend()\n",
        "\n",
        "plt.subplot(246)\n",
        "plt.hist(x = [train_data[train_data[\"Survived\"] == 1][\"Fare\"], train_data[train_data[\"Survived\"] == 0][\"Fare\"]], stacked=True, color=[\"green\", \"red\"], label=[\"survived\", \"died\"])\n",
        "plt.title(\"Fare Histogram (Surviral)\")\n",
        "plt.ylabel(\"Number of Passangers\")\n",
        "plt.xlabel(\"Fare\")\n",
        "plt.legend()\n",
        "\n",
        "plt.subplot(247)\n",
        "plt.hist(x = [train_data[train_data[\"Survived\"] == 1][\"Gender\"], train_data[train_data[\"Survived\"] == 0][\"Gender\"]], bins=2, color = [\"Green\", \"Red\"], label=[\"survived\", \"died\"])\n",
        "plt.xticks([0,1])\n",
        "plt.legend()\n",
        "plt.title(\"Male vs. Female Survivability\")\n",
        "plt.xlabel(\"Gender\")\n",
        "plt.ylabel(\"Number of Passangers\")\n",
        "\n",
        "plt.subplot(248)\n",
        "# 1 = male; 0 = female\n",
        "plt.hist(x = [ train_data[train_data[\"Survived\"] == 1][\"Pclass\"], train_data[train_data[\"Survived\"] == 0][\"Pclass\"]], stacked=True, bins=3, color=[\"Green\", \"Red\"], label=[\"survived\", \"died\"], align=\"mid\")\n",
        "plt.title(\"Survival per Class\")\n",
        "plt.ylabel(\"Number of Passengers\")\n",
        "plt.xlabel(\"Class\")"
      ],
      "execution_count": 37,
      "outputs": [
        {
          "output_type": "execute_result",
          "data": {
            "text/plain": [
              "Text(0.5, 0, 'Class')"
            ]
          },
          "metadata": {
            "tags": []
          },
          "execution_count": 37
        },
        {
          "output_type": "display_data",
          "data": {
            "image/png": "[encoded data removed]",
            "text/plain": [
              "<Figure size 1440x864 with 8 Axes>"
            ]
          },
          "metadata": {
            "tags": [],
            "needs_background": "light"
          }
        }
      ]
    },
    {
      "cell_type": "code",
      "metadata": {
        "id": "BZ5QbORe3Qoo",
        "colab_type": "code",
        "colab": {
          "base_uri": "https://localhost:8080/",
          "height": 732
        },
        "outputId": "c4fb6454-1e4d-4165-d8e7-92afe911cea3"
      },
      "source": [
        "f, axes = plt.subplots(1, 4)\n",
        "f.set_size_inches(20, 12)\n",
        "\n",
        "sns.boxplot(x=\"Age\", data=train_data, ax=axes[0], orient=\"v\")\n",
        "sns.boxplot(x=\"Fare\", data=train_data, ax=axes[1], orient=\"v\")\n",
        "sns.boxplot(x=\"Sex\", y=\"Age\", data=train_data, ax=axes[2])\n",
        "sns.boxplot(x=\"Pclass\", y=\"Age\", data=train_data, ax=axes[3])"
      ],
      "execution_count": 77,
      "outputs": [
        {
          "output_type": "execute_result",
          "data": {
            "text/plain": [
              "<matplotlib.axes._subplots.AxesSubplot at 0x7fc3be330e48>"
            ]
          },
          "metadata": {
            "tags": []
          },
          "execution_count": 77
        },
        {
          "output_type": "display_data",
          "data": {
            "image/png": "[encoded data removed]",
            "text/plain": [
              "<Figure size 1440x864 with 4 Axes>"
            ]
          },
          "metadata": {
            "tags": [],
            "needs_background": "light"
          }
        }
      ]
    },
    {
      "cell_type": "code",
      "metadata": {
        "id": "gKoMvi_-EOJ_",
        "colab_type": "code",
        "colab": {
          "base_uri": "https://localhost:8080/",
          "height": 434
        },
        "outputId": "61baa84a-3533-4029-d4f0-26a237012c0f"
      },
      "source": [
        "a = sns.FacetGrid( train_data, hue = 'Survived', aspect=4 )\n",
        "a.map(sns.kdeplot, 'Age', shade= True )\n",
        "a.set(xlim=(0 , train_data['Age'].max()))\n",
        "a.add_legend()"
      ],
      "execution_count": 80,
      "outputs": [
        {
          "output_type": "error",
          "ename": "AttributeError",
          "evalue": "ignored",
          "traceback": [
            "\u001b[0;31m---------------------------------------------------------------------------\u001b[0m",
            "\u001b[0;31mAttributeError\u001b[0m                            Traceback (most recent call last)",
            "\u001b[0;32m<ipython-input-80-41bba19e89a8>\u001b[0m in \u001b[0;36m<module>\u001b[0;34m()\u001b[0m\n\u001b[1;32m      2\u001b[0m \u001b[0ma\u001b[0m\u001b[0;34m.\u001b[0m\u001b[0mmap\u001b[0m\u001b[0;34m(\u001b[0m\u001b[0msns\u001b[0m\u001b[0;34m.\u001b[0m\u001b[0mkdeplot\u001b[0m\u001b[0;34m,\u001b[0m \u001b[0;34m'Age'\u001b[0m\u001b[0;34m,\u001b[0m \u001b[0mshade\u001b[0m\u001b[0;34m=\u001b[0m \u001b[0;32mTrue\u001b[0m \u001b[0;34m)\u001b[0m\u001b[0;34m\u001b[0m\u001b[0;34m\u001b[0m\u001b[0m\n\u001b[1;32m      3\u001b[0m \u001b[0ma\u001b[0m\u001b[0;34m.\u001b[0m\u001b[0mset\u001b[0m\u001b[0;34m(\u001b[0m\u001b[0mxlim\u001b[0m\u001b[0;34m=\u001b[0m\u001b[0;34m(\u001b[0m\u001b[0;36m0\u001b[0m \u001b[0;34m,\u001b[0m \u001b[0mtrain_data\u001b[0m\u001b[0;34m[\u001b[0m\u001b[0;34m'Age'\u001b[0m\u001b[0;34m]\u001b[0m\u001b[0;34m.\u001b[0m\u001b[0mmax\u001b[0m\u001b[0;34m(\u001b[0m\u001b[0;34m)\u001b[0m\u001b[0;34m)\u001b[0m\u001b[0;34m)\u001b[0m\u001b[0;34m\u001b[0m\u001b[0;34m\u001b[0m\u001b[0m\n\u001b[0;32m----> 4\u001b[0;31m \u001b[0ma\u001b[0m\u001b[0;34m.\u001b[0m\u001b[0mtitle\u001b[0m\u001b[0;34m(\u001b[0m\u001b[0;34m\"A\"\u001b[0m\u001b[0;34m)\u001b[0m\u001b[0;34m\u001b[0m\u001b[0;34m\u001b[0m\u001b[0m\n\u001b[0m\u001b[1;32m      5\u001b[0m \u001b[0ma\u001b[0m\u001b[0;34m.\u001b[0m\u001b[0madd_legend\u001b[0m\u001b[0;34m(\u001b[0m\u001b[0;34m)\u001b[0m\u001b[0;34m\u001b[0m\u001b[0;34m\u001b[0m\u001b[0m\n",
            "\u001b[0;31mAttributeError\u001b[0m: 'FacetGrid' object has no attribute 'title'"
          ]
        },
        {
          "output_type": "display_data",
          "data": {
            "image/png": "[encoded data removed]",
            "text/plain": [
              "<Figure size 864x216 with 1 Axes>"
            ]
          },
          "metadata": {
            "tags": [],
            "needs_background": "light"
          }
        }
      ]
    },
    {
      "cell_type": "markdown",
      "metadata": {
        "id": "j18tBGbwilbW",
        "colab_type": "text"
      },
      "source": [
        "## Train Test Split\n",
        "\n",
        "The Survived-Column is our Target. The other columns are our features.\n",
        "We need to split this DF in features (X) and targets (y)."
      ]
    },
    {
      "cell_type": "code",
      "metadata": {
        "id": "qYWJGcgAinZP",
        "colab_type": "code",
        "colab": {
          "base_uri": "https://localhost:8080/",
          "height": 363
        },
        "outputId": "66c358e2-b3b1-4237-d3eb-b97983d287f7"
      },
      "source": [
        "train_data.head(10)"
      ],
      "execution_count": 7,
      "outputs": [
        {
          "output_type": "execute_result",
          "data": {
            "text/html": [
              "<div>\n",
              "<style scoped>\n",
              "    .dataframe tbody tr th:only-of-type {\n",
              "        vertical-align: middle;\n",
              "    }\n",
              "\n",
              "    .dataframe tbody tr th {\n",
              "        vertical-align: top;\n",
              "    }\n",
              "\n",
              "    .dataframe thead th {\n",
              "        text-align: right;\n",
              "    }\n",
              "</style>\n",
              "<table border=\"1\" class=\"dataframe\">\n",
              "  <thead>\n",
              "    <tr style=\"text-align: right;\">\n",
              "      <th></th>\n",
              "      <th>Survived</th>\n",
              "      <th>Pclass</th>\n",
              "      <th>Name</th>\n",
              "      <th>Sex</th>\n",
              "      <th>Age</th>\n",
              "      <th>Fare</th>\n",
              "      <th>Gender</th>\n",
              "    </tr>\n",
              "  </thead>\n",
              "  <tbody>\n",
              "    <tr>\n",
              "      <th>0</th>\n",
              "      <td>0</td>\n",
              "      <td>3</td>\n",
              "      <td>Braund, Mr. Owen Harris</td>\n",
              "      <td>male</td>\n",
              "      <td>22.0</td>\n",
              "      <td>7.2500</td>\n",
              "      <td>1</td>\n",
              "    </tr>\n",
              "    <tr>\n",
              "      <th>1</th>\n",
              "      <td>1</td>\n",
              "      <td>1</td>\n",
              "      <td>Cumings, Mrs. John Bradley (Florence Briggs Th...</td>\n",
              "      <td>female</td>\n",
              "      <td>38.0</td>\n",
              "      <td>71.2833</td>\n",
              "      <td>0</td>\n",
              "    </tr>\n",
              "    <tr>\n",
              "      <th>2</th>\n",
              "      <td>1</td>\n",
              "      <td>3</td>\n",
              "      <td>Heikkinen, Miss. Laina</td>\n",
              "      <td>female</td>\n",
              "      <td>26.0</td>\n",
              "      <td>7.9250</td>\n",
              "      <td>0</td>\n",
              "    </tr>\n",
              "    <tr>\n",
              "      <th>3</th>\n",
              "      <td>1</td>\n",
              "      <td>1</td>\n",
              "      <td>Futrelle, Mrs. Jacques Heath (Lily May Peel)</td>\n",
              "      <td>female</td>\n",
              "      <td>35.0</td>\n",
              "      <td>53.1000</td>\n",
              "      <td>0</td>\n",
              "    </tr>\n",
              "    <tr>\n",
              "      <th>4</th>\n",
              "      <td>0</td>\n",
              "      <td>3</td>\n",
              "      <td>Allen, Mr. William Henry</td>\n",
              "      <td>male</td>\n",
              "      <td>35.0</td>\n",
              "      <td>8.0500</td>\n",
              "      <td>1</td>\n",
              "    </tr>\n",
              "    <tr>\n",
              "      <th>5</th>\n",
              "      <td>0</td>\n",
              "      <td>3</td>\n",
              "      <td>Moran, Mr. James</td>\n",
              "      <td>male</td>\n",
              "      <td>28.0</td>\n",
              "      <td>8.4583</td>\n",
              "      <td>1</td>\n",
              "    </tr>\n",
              "    <tr>\n",
              "      <th>6</th>\n",
              "      <td>0</td>\n",
              "      <td>1</td>\n",
              "      <td>McCarthy, Mr. Timothy J</td>\n",
              "      <td>male</td>\n",
              "      <td>54.0</td>\n",
              "      <td>51.8625</td>\n",
              "      <td>1</td>\n",
              "    </tr>\n",
              "    <tr>\n",
              "      <th>7</th>\n",
              "      <td>0</td>\n",
              "      <td>3</td>\n",
              "      <td>Palsson, Master. Gosta Leonard</td>\n",
              "      <td>male</td>\n",
              "      <td>2.0</td>\n",
              "      <td>21.0750</td>\n",
              "      <td>1</td>\n",
              "    </tr>\n",
              "    <tr>\n",
              "      <th>8</th>\n",
              "      <td>1</td>\n",
              "      <td>3</td>\n",
              "      <td>Johnson, Mrs. Oscar W (Elisabeth Vilhelmina Berg)</td>\n",
              "      <td>female</td>\n",
              "      <td>27.0</td>\n",
              "      <td>11.1333</td>\n",
              "      <td>0</td>\n",
              "    </tr>\n",
              "    <tr>\n",
              "      <th>9</th>\n",
              "      <td>1</td>\n",
              "      <td>2</td>\n",
              "      <td>Nasser, Mrs. Nicholas (Adele Achem)</td>\n",
              "      <td>female</td>\n",
              "      <td>14.0</td>\n",
              "      <td>30.0708</td>\n",
              "      <td>0</td>\n",
              "    </tr>\n",
              "  </tbody>\n",
              "</table>\n",
              "</div>"
            ],
            "text/plain": [
              "   Survived  Pclass                                               Name     Sex   Age     Fare  Gender\n",
              "0         0       3                            Braund, Mr. Owen Harris    male  22.0   7.2500       1\n",
              "1         1       1  Cumings, Mrs. John Bradley (Florence Briggs Th...  female  38.0  71.2833       0\n",
              "2         1       3                             Heikkinen, Miss. Laina  female  26.0   7.9250       0\n",
              "3         1       1       Futrelle, Mrs. Jacques Heath (Lily May Peel)  female  35.0  53.1000       0\n",
              "4         0       3                           Allen, Mr. William Henry    male  35.0   8.0500       1\n",
              "5         0       3                                   Moran, Mr. James    male  28.0   8.4583       1\n",
              "6         0       1                            McCarthy, Mr. Timothy J    male  54.0  51.8625       1\n",
              "7         0       3                     Palsson, Master. Gosta Leonard    male   2.0  21.0750       1\n",
              "8         1       3  Johnson, Mrs. Oscar W (Elisabeth Vilhelmina Berg)  female  27.0  11.1333       0\n",
              "9         1       2                Nasser, Mrs. Nicholas (Adele Achem)  female  14.0  30.0708       0"
            ]
          },
          "metadata": {
            "tags": []
          },
          "execution_count": 7
        }
      ]
    },
    {
      "cell_type": "code",
      "metadata": {
        "id": "dUw615-ujJTS",
        "colab_type": "code",
        "colab": {}
      },
      "source": [
        "features = train_data[[\"Pclass\", \"Age\", \"Gender\"]]\n",
        "target = train_data[\"Survived\"]"
      ],
      "execution_count": 0,
      "outputs": []
    },
    {
      "cell_type": "markdown",
      "metadata": {
        "id": "1JbpX91erOFM",
        "colab_type": "text"
      },
      "source": [
        "Moreover we need to further split the features and targets in data for training and testing our model. This is done with the `train_test_split`."
      ]
    },
    {
      "cell_type": "code",
      "metadata": {
        "id": "f2jl9iCrjZwb",
        "colab_type": "code",
        "colab": {}
      },
      "source": [
        "X_train, X_test, y_train, y_test = train_test_split(features, target)"
      ],
      "execution_count": 0,
      "outputs": []
    },
    {
      "cell_type": "markdown",
      "metadata": {
        "id": "4K9DKc-7rggb",
        "colab_type": "text"
      },
      "source": [
        "Since `skleanr`'s Logistic Regression implementation uses Regularization, we need to scale our feature data with the `Standard Scaler`.  \n",
        "This will be fitted with our X_train data and the X_test data will be scaled the same way afterwads."
      ]
    },
    {
      "cell_type": "code",
      "metadata": {
        "id": "m_jvdYTEnHew",
        "colab_type": "code",
        "colab": {}
      },
      "source": [
        "scaler = StandardScaler()\n",
        "X_train = scaler.fit_transform(X_train)\n",
        "X_test = scaler.transform(X_test)"
      ],
      "execution_count": 0,
      "outputs": []
    },
    {
      "cell_type": "markdown",
      "metadata": {
        "id": "2mmGbVMYrypN",
        "colab_type": "text"
      },
      "source": [
        "## Creating a Logisitc Regression Model\n",
        "\n",
        "After the data is scaled we create our Logistic Regression Model and fit it with the training features (`X_train`) and training labels (`y_train`)."
      ]
    },
    {
      "cell_type": "code",
      "metadata": {
        "id": "hHfDIOGBnvml",
        "colab_type": "code",
        "colab": {
          "base_uri": "https://localhost:8080/",
          "height": 106
        },
        "outputId": "14c70cc9-4ef3-4170-ffe0-cb8eca96cebe"
      },
      "source": [
        "model = LogisticRegression()\n",
        "model.fit(X_train, y_train)"
      ],
      "execution_count": 11,
      "outputs": [
        {
          "output_type": "execute_result",
          "data": {
            "text/plain": [
              "LogisticRegression(C=1.0, class_weight=None, dual=False, fit_intercept=True,\n",
              "                   intercept_scaling=1, l1_ratio=None, max_iter=100,\n",
              "                   multi_class='auto', n_jobs=None, penalty='l2',\n",
              "                   random_state=None, solver='lbfgs', tol=0.0001, verbose=0,\n",
              "                   warm_start=False)"
            ]
          },
          "metadata": {
            "tags": []
          },
          "execution_count": 11
        }
      ]
    },
    {
      "cell_type": "code",
      "metadata": {
        "id": "_x-Gmawgn3In",
        "colab_type": "code",
        "colab": {
          "base_uri": "https://localhost:8080/",
          "height": 35
        },
        "outputId": "bff20853-7982-4ead-efb9-81868cc07cfa"
      },
      "source": [
        "model.score(X_train, y_train)"
      ],
      "execution_count": 12,
      "outputs": [
        {
          "output_type": "execute_result",
          "data": {
            "text/plain": [
              "0.7949101796407185"
            ]
          },
          "metadata": {
            "tags": []
          },
          "execution_count": 12
        }
      ]
    },
    {
      "cell_type": "code",
      "metadata": {
        "id": "DZvN7uhaoIYE",
        "colab_type": "code",
        "colab": {
          "base_uri": "https://localhost:8080/",
          "height": 35
        },
        "outputId": "be3fc777-f066-43d6-a638-76aa21698186"
      },
      "source": [
        "model.score(X_test, y_test)"
      ],
      "execution_count": 13,
      "outputs": [
        {
          "output_type": "execute_result",
          "data": {
            "text/plain": [
              "0.7937219730941704"
            ]
          },
          "metadata": {
            "tags": []
          },
          "execution_count": 13
        }
      ]
    },
    {
      "cell_type": "code",
      "metadata": {
        "id": "J8mSD_zToWfl",
        "colab_type": "code",
        "colab": {
          "base_uri": "https://localhost:8080/",
          "height": 35
        },
        "outputId": "17a55533-8ee0-46af-9e8b-c9d8211394c6"
      },
      "source": [
        "model.coef_"
      ],
      "execution_count": 14,
      "outputs": [
        {
          "output_type": "execute_result",
          "data": {
            "text/plain": [
              "array([[-0.96330991, -0.37558172, -1.24817869]])"
            ]
          },
          "metadata": {
            "tags": []
          },
          "execution_count": 14
        }
      ]
    },
    {
      "cell_type": "code",
      "metadata": {
        "id": "FJ0czf7YpwB1",
        "colab_type": "code",
        "colab": {
          "base_uri": "https://localhost:8080/",
          "height": 1000
        },
        "outputId": "b1e7ab1d-287a-4ac0-9d9f-8aac09844663"
      },
      "source": [
        "model.predict_proba(X_test)"
      ],
      "execution_count": 15,
      "outputs": [
        {
          "output_type": "execute_result",
          "data": {
            "text/plain": [
              "array([[0.92360253, 0.07639747],\n",
              "       [0.91733516, 0.08266484],\n",
              "       [0.74828411, 0.25171589],\n",
              "       [0.44438506, 0.55561494],\n",
              "       [0.31737577, 0.68262423],\n",
              "       [0.83696187, 0.16303813],\n",
              "       [0.91514412, 0.08485588],\n",
              "       [0.77421004, 0.22578996],\n",
              "       [0.89564234, 0.10435766],\n",
              "       [0.89018328, 0.10981672],\n",
              "       [0.72617   , 0.27383   ],\n",
              "       [0.72045615, 0.27954385],\n",
              "       [0.89294343, 0.10705657],\n",
              "       [0.9194746 , 0.0805254 ],\n",
              "       [0.87810122, 0.12189878],\n",
              "       [0.74213438, 0.25786562],\n",
              "       [0.78403555, 0.21596445],\n",
              "       [0.90086025, 0.09913975],\n",
              "       [0.13158294, 0.86841706],\n",
              "       [0.86906942, 0.13093058],\n",
              "       [0.87810122, 0.12189878],\n",
              "       [0.91514412, 0.08485588],\n",
              "       [0.09711934, 0.90288066],\n",
              "       [0.09711934, 0.90288066],\n",
              "       [0.91514412, 0.08485588],\n",
              "       [0.91514412, 0.08485588],\n",
              "       [0.12519404, 0.87480596],\n",
              "       [0.85551782, 0.14448218],\n",
              "       [0.05428067, 0.94571933],\n",
              "       [0.11075474, 0.88924526],\n",
              "       [0.89294343, 0.10705657],\n",
              "       [0.78403555, 0.21596445],\n",
              "       [0.63916003, 0.36083997],\n",
              "       [0.31040041, 0.68959959],\n",
              "       [0.89257592, 0.10742408],\n",
              "       [0.59190869, 0.40809131],\n",
              "       [0.91290052, 0.08709948],\n",
              "       [0.77421004, 0.22578996],\n",
              "       [0.09222608, 0.90777392],\n",
              "       [0.88447549, 0.11552451],\n",
              "       [0.91514412, 0.08485588],\n",
              "       [0.18490261, 0.81509739],\n",
              "       [0.78403555, 0.21596445],\n",
              "       [0.93484672, 0.06515328],\n",
              "       [0.58499438, 0.41500562],\n",
              "       [0.26373251, 0.73626749],\n",
              "       [0.82437897, 0.17562103],\n",
              "       [0.11037724, 0.88962276],\n",
              "       [0.91514412, 0.08485588],\n",
              "       [0.91060339, 0.08939661],\n",
              "       [0.87810122, 0.12189878],\n",
              "       [0.56406009, 0.43593991],\n",
              "       [0.44438506, 0.55561494],\n",
              "       [0.91514412, 0.08485588],\n",
              "       [0.91514412, 0.08485588],\n",
              "       [0.91733516, 0.08266484],\n",
              "       [0.28728346, 0.71271654],\n",
              "       [0.46207152, 0.53792848],\n",
              "       [0.79587648, 0.20412352],\n",
              "       [0.28728346, 0.71271654],\n",
              "       [0.44438506, 0.55561494],\n",
              "       [0.5215738 , 0.4784262 ],\n",
              "       [0.58499438, 0.41500562],\n",
              "       [0.06209278, 0.93790722],\n",
              "       [0.29236988, 0.70763012],\n",
              "       [0.86533958, 0.13466042],\n",
              "       [0.75888646, 0.24111354],\n",
              "       [0.43033448, 0.56966552],\n",
              "       [0.5215738 , 0.4784262 ],\n",
              "       [0.91514412, 0.08485588],\n",
              "       [0.91514412, 0.08485588],\n",
              "       [0.44331596, 0.55668404],\n",
              "       [0.86243381, 0.13756619],\n",
              "       [0.91514412, 0.08485588],\n",
              "       [0.90584469, 0.09415531],\n",
              "       [0.90825177, 0.09174823],\n",
              "       [0.26866508, 0.73133492],\n",
              "       [0.93656428, 0.06343572],\n",
              "       [0.62678677, 0.37321323],\n",
              "       [0.5215738 , 0.4784262 ],\n",
              "       [0.91060339, 0.08939661],\n",
              "       [0.89828096, 0.10171904],\n",
              "       [0.89564234, 0.10435766],\n",
              "       [0.65222249, 0.34777751],\n",
              "       [0.44438506, 0.55561494],\n",
              "       [0.07480204, 0.92519796],\n",
              "       [0.90825177, 0.09174823],\n",
              "       [0.9194746 , 0.0805254 ],\n",
              "       [0.46562176, 0.53437824],\n",
              "       [0.94673674, 0.05326326],\n",
              "       [0.6200841 , 0.3799159 ],\n",
              "       [0.91514412, 0.08485588],\n",
              "       [0.76407203, 0.23592797],\n",
              "       [0.74828411, 0.25171589],\n",
              "       [0.68386239, 0.31613761],\n",
              "       [0.44438506, 0.55561494],\n",
              "       [0.95285591, 0.04714409],\n",
              "       [0.65222249, 0.34777751],\n",
              "       [0.38893427, 0.61106573],\n",
              "       [0.9194746 , 0.0805254 ],\n",
              "       [0.57804643, 0.42195357],\n",
              "       [0.36216049, 0.63783951],\n",
              "       [0.54289495, 0.45710505],\n",
              "       [0.81163178, 0.18836822],\n",
              "       [0.83302828, 0.16697172],\n",
              "       [0.89294343, 0.10705657],\n",
              "       [0.91514412, 0.08485588],\n",
              "       [0.91514412, 0.08485588],\n",
              "       [0.44438506, 0.55561494],\n",
              "       [0.78883075, 0.21116925],\n",
              "       [0.32359335, 0.67640665],\n",
              "       [0.12210041, 0.87789959],\n",
              "       [0.36788832, 0.63211168],\n",
              "       [0.57804643, 0.42195357],\n",
              "       [0.18490261, 0.81509739],\n",
              "       [0.44438506, 0.55561494],\n",
              "       [0.91514412, 0.08485588],\n",
              "       [0.50017376, 0.49982624],\n",
              "       [0.35471231, 0.64528769],\n",
              "       [0.92156341, 0.07843659],\n",
              "       [0.87228411, 0.12771589],\n",
              "       [0.91514412, 0.08485588],\n",
              "       [0.09222608, 0.90777392],\n",
              "       [0.41639523, 0.58360477],\n",
              "       [0.68386239, 0.31613761],\n",
              "       [0.91514412, 0.08485588],\n",
              "       [0.89564234, 0.10435766],\n",
              "       [0.89828096, 0.10171904],\n",
              "       [0.89828096, 0.10171904],\n",
              "       [0.38217056, 0.61782944],\n",
              "       [0.06727212, 0.93272788],\n",
              "       [0.91514412, 0.08485588],\n",
              "       [0.85854571, 0.14145429],\n",
              "       [0.91514412, 0.08485588],\n",
              "       [0.08530121, 0.91469879],\n",
              "       [0.5215738 , 0.4784262 ],\n",
              "       [0.05428067, 0.94571933],\n",
              "       [0.89828096, 0.10171904],\n",
              "       [0.91733516, 0.08266484],\n",
              "       [0.2693138 , 0.7306862 ],\n",
              "       [0.88736095, 0.11263905],\n",
              "       [0.11321215, 0.88678785],\n",
              "       [0.86578627, 0.13421373],\n",
              "       [0.91514412, 0.08485588],\n",
              "       [0.91514412, 0.08485588],\n",
              "       [0.15242235, 0.84757765],\n",
              "       [0.91514412, 0.08485588],\n",
              "       [0.91290052, 0.08709948],\n",
              "       [0.70881234, 0.29118766],\n",
              "       [0.06550261, 0.93449739],\n",
              "       [0.40258839, 0.59741161],\n",
              "       [0.18490261, 0.81509739],\n",
              "       [0.70208221, 0.29791779],\n",
              "       [0.44438506, 0.55561494],\n",
              "       [0.16434683, 0.83565317],\n",
              "       [0.67765761, 0.32234239],\n",
              "       [0.16046317, 0.83953683],\n",
              "       [0.1048936 , 0.8951064 ],\n",
              "       [0.18924444, 0.81075556],\n",
              "       [0.40947397, 0.59052603],\n",
              "       [0.44438506, 0.55561494],\n",
              "       [0.2931647 , 0.7068353 ],\n",
              "       [0.14519078, 0.85480922],\n",
              "       [0.73737689, 0.26262311],\n",
              "       [0.49303639, 0.50696361],\n",
              "       [0.94302048, 0.05697952],\n",
              "       [0.44438506, 0.55561494],\n",
              "       [0.92360253, 0.07639747],\n",
              "       [0.88736095, 0.11263905],\n",
              "       [0.3754522 , 0.6245478 ],\n",
              "       [0.78338486, 0.21661514],\n",
              "       [0.91514412, 0.08485588],\n",
              "       [0.70801941, 0.29198059],\n",
              "       [0.92156341, 0.07843659],\n",
              "       [0.9194746 , 0.0805254 ],\n",
              "       [0.57804643, 0.42195357],\n",
              "       [0.0572877 , 0.9427123 ],\n",
              "       [0.21212382, 0.78787618],\n",
              "       [0.91624615, 0.08375385],\n",
              "       [0.08986342, 0.91013658],\n",
              "       [0.86863201, 0.13136799],\n",
              "       [0.16046317, 0.83953683],\n",
              "       [0.94453536, 0.05546464],\n",
              "       [0.89294343, 0.10705657],\n",
              "       [0.90338117, 0.09661883],\n",
              "       [0.90086025, 0.09913975],\n",
              "       [0.9194746 , 0.0805254 ],\n",
              "       [0.5215738 , 0.4784262 ],\n",
              "       [0.66505988, 0.33494012],\n",
              "       [0.84460476, 0.15539524],\n",
              "       [0.79818587, 0.20181413],\n",
              "       [0.26373251, 0.73626749],\n",
              "       [0.91060339, 0.08939661],\n",
              "       [0.2318373 , 0.7681627 ],\n",
              "       [0.90584469, 0.09415531],\n",
              "       [0.91514412, 0.08485588],\n",
              "       [0.36878145, 0.63121855],\n",
              "       [0.72617   , 0.27383   ],\n",
              "       [0.23696084, 0.76303916],\n",
              "       [0.75888646, 0.24111354],\n",
              "       [0.91514412, 0.08485588],\n",
              "       [0.44438506, 0.55561494],\n",
              "       [0.89828096, 0.10171904],\n",
              "       [0.83071223, 0.16928777],\n",
              "       [0.90584469, 0.09415531],\n",
              "       [0.56512477, 0.43487523],\n",
              "       [0.91514412, 0.08485588],\n",
              "       [0.93128113, 0.06871887],\n",
              "       [0.91514412, 0.08485588],\n",
              "       [0.07480204, 0.92519796],\n",
              "       [0.89564234, 0.10435766],\n",
              "       [0.2318373 , 0.7681627 ],\n",
              "       [0.44438506, 0.55561494],\n",
              "       [0.89018328, 0.10981672],\n",
              "       [0.77421004, 0.22578996],\n",
              "       [0.11611037, 0.88388963],\n",
              "       [0.91514412, 0.08485588],\n",
              "       [0.77421004, 0.22578996],\n",
              "       [0.91514412, 0.08485588],\n",
              "       [0.93906163, 0.06093837],\n",
              "       [0.07885113, 0.92114887],\n",
              "       [0.95942908, 0.04057092],\n",
              "       [0.22679162, 0.77320838]])"
            ]
          },
          "metadata": {
            "tags": []
          },
          "execution_count": 15
        }
      ]
    }
  ]
}