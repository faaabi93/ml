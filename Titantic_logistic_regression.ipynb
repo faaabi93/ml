{
 "cells": [
  {
   "cell_type": "markdown",
   "metadata": {
    "colab_type": "text",
    "id": "yUg4uBEG72IM"
   },
   "source": [
    "# Titanic - Learning from disaster\n",
    "\n",
    "## The Callenge\n",
    "\n",
    "The sinking of the Titanic is one of the most infamous shipwrecks in history.\n",
    "\n",
    "On April 15, 1912, during her maiden voyage, the widely considered “unsinkable” RMS Titanic sank after colliding with an iceberg. Unfortunately, there weren’t enough lifeboats for everyone onboard, resulting in the death of 1502 out of 2224 passengers and crew.\n",
    "\n",
    "While there was some element of luck involved in surviving, it seems some groups of people were more likely to survive than others.\n",
    "\n",
    "In this challenge, we ask you to build a predictive model that answers the question: “what sorts of people were more likely to survive?” using passenger data (ie name, age, gender, socio-economic class, etc). "
   ]
  },
  {
   "cell_type": "markdown",
   "metadata": {
    "colab_type": "text",
    "id": "_MGJ6d8m8GRi"
   },
   "source": [
    "## What Data Will I Use in This Competition?\n",
    "\n",
    "In this competition, you’ll gain access to two similar datasets that include passenger information like name, age, gender, socio-economic class, etc. One dataset is titled `train.csv` and the other is titled `test.csv`.\n",
    "\n",
    "Train.csv will contain the details of a subset of the passengers on board (891 to be exact) and importantly, will reveal whether they survived or not, also known as the “ground truth”.\n",
    "\n",
    "The `test.csv` dataset contains similar information but does not disclose the “ground truth” for each passenger. It’s your job to predict these outcomes.\n",
    "\n",
    "Using the patterns you find in the train.csv data, predict whether the other 418 passengers on board (found in test.csv) survived.\n",
    "\n",
    "Check out the [“Data” tab](https://www.kaggle.com/c/titanic/data) to explore the datasets even further. Once you feel you’ve created a competitive model, submit it to Kaggle to see where your model stands on our leaderboard against other Kagglers."
   ]
  },
  {
   "cell_type": "markdown",
   "metadata": {
    "colab_type": "text",
    "id": "TQT7s4A2L-oa"
   },
   "source": [
    "## Imports"
   ]
  },
  {
   "cell_type": "code",
   "execution_count": 1,
   "metadata": {
    "ExecuteTime": {
     "end_time": "2020-06-08T11:29:32.124303Z",
     "start_time": "2020-06-08T11:29:31.004396Z"
    },
    "colab": {
     "base_uri": "https://localhost:8080/",
     "height": 53
    },
    "colab_type": "code",
    "id": "LEMptacV7zER",
    "outputId": "28a5d743-b3ed-4795-d8cb-f2b0b5b3275f"
   },
   "outputs": [],
   "source": [
    "import pandas as pd\n",
    "import numpy as np\n",
    "import matplotlib.pyplot as plt\n",
    "import seaborn as sns\n",
    "from sklearn.linear_model import LogisticRegression\n",
    "from sklearn.model_selection import train_test_split\n",
    "from sklearn.preprocessing import StandardScaler\n",
    "\n",
    "# Show all columns\n",
    "pd.set_option('display.expand_frame_repr', False)"
   ]
  },
  {
   "cell_type": "markdown",
   "metadata": {
    "colab_type": "text",
    "id": "J3i1cvwLMFZ5"
   },
   "source": [
    "## Loading the data\n",
    "\n",
    "I found no way of reading the data from kaggle directly, so I stored them in my GitHub-Repo."
   ]
  },
  {
   "cell_type": "code",
   "execution_count": 2,
   "metadata": {
    "ExecuteTime": {
     "end_time": "2020-06-08T11:29:32.359104Z",
     "start_time": "2020-06-08T11:29:32.126502Z"
    },
    "colab": {},
    "colab_type": "code",
    "id": "m5wIQREcM3jc"
   },
   "outputs": [],
   "source": [
    "train_data = pd.read_csv(\"https://raw.githubusercontent.com/faaabi93/ml/master/models/data/titanic/train.csv\")\n",
    "test_data = pd.read_csv(\"https://raw.githubusercontent.com/faaabi93/ml/master/models/data/titanic/test.csv\")"
   ]
  },
  {
   "cell_type": "code",
   "execution_count": 3,
   "metadata": {
    "ExecuteTime": {
     "end_time": "2020-06-08T11:29:32.381213Z",
     "start_time": "2020-06-08T11:29:32.363333Z"
    },
    "colab": {
     "base_uri": "https://localhost:8080/",
     "height": 571
    },
    "colab_type": "code",
    "id": "51Y7x6D7NFoG",
    "outputId": "61d5f5e7-96a9-4dc9-cdbf-36bcae032485"
   },
   "outputs": [
    {
     "name": "stdout",
     "output_type": "stream",
     "text": [
      "   PassengerId  Survived  Pclass                                               Name     Sex   Age  SibSp  Parch            Ticket     Fare Cabin Embarked\n",
      "0            1         0       3                            Braund, Mr. Owen Harris    male  22.0      1      0         A/5 21171   7.2500   NaN        S\n",
      "1            2         1       1  Cumings, Mrs. John Bradley (Florence Briggs Th...  female  38.0      1      0          PC 17599  71.2833   C85        C\n",
      "2            3         1       3                             Heikkinen, Miss. Laina  female  26.0      0      0  STON/O2. 3101282   7.9250   NaN        S\n",
      "3            4         1       1       Futrelle, Mrs. Jacques Heath (Lily May Peel)  female  35.0      1      0            113803  53.1000  C123        S\n",
      "4            5         0       3                           Allen, Mr. William Henry    male  35.0      0      0            373450   8.0500   NaN        S\n",
      "5            6         0       3                                   Moran, Mr. James    male   NaN      0      0            330877   8.4583   NaN        Q\n",
      "6            7         0       1                            McCarthy, Mr. Timothy J    male  54.0      0      0             17463  51.8625   E46        S\n",
      "7            8         0       3                     Palsson, Master. Gosta Leonard    male   2.0      3      1            349909  21.0750   NaN        S\n",
      "8            9         1       3  Johnson, Mrs. Oscar W (Elisabeth Vilhelmina Berg)  female  27.0      0      2            347742  11.1333   NaN        S\n",
      "9           10         1       2                Nasser, Mrs. Nicholas (Adele Achem)  female  14.0      1      0            237736  30.0708   NaN        C\n",
      "<class 'pandas.core.frame.DataFrame'>\n",
      "RangeIndex: 891 entries, 0 to 890\n",
      "Data columns (total 12 columns):\n",
      " #   Column       Non-Null Count  Dtype  \n",
      "---  ------       --------------  -----  \n",
      " 0   PassengerId  891 non-null    int64  \n",
      " 1   Survived     891 non-null    int64  \n",
      " 2   Pclass       891 non-null    int64  \n",
      " 3   Name         891 non-null    object \n",
      " 4   Sex          891 non-null    object \n",
      " 5   Age          714 non-null    float64\n",
      " 6   SibSp        891 non-null    int64  \n",
      " 7   Parch        891 non-null    int64  \n",
      " 8   Ticket       891 non-null    object \n",
      " 9   Fare         891 non-null    float64\n",
      " 10  Cabin        204 non-null    object \n",
      " 11  Embarked     889 non-null    object \n",
      "dtypes: float64(2), int64(5), object(5)\n",
      "memory usage: 83.7+ KB\n",
      "None\n"
     ]
    }
   ],
   "source": [
    "print(train_data.head(10))\n",
    "print(train_data.info())"
   ]
  },
  {
   "cell_type": "code",
   "execution_count": 4,
   "metadata": {
    "ExecuteTime": {
     "end_time": "2020-06-08T11:29:32.403949Z",
     "start_time": "2020-06-08T11:29:32.386296Z"
    },
    "colab": {
     "base_uri": "https://localhost:8080/",
     "height": 553
    },
    "colab_type": "code",
    "id": "QA4hP0_cNKPr",
    "outputId": "6bf17855-27a8-4ae9-9873-4265a7556d65"
   },
   "outputs": [
    {
     "name": "stdout",
     "output_type": "stream",
     "text": [
      "   PassengerId  Pclass                                          Name     Sex   Age  SibSp  Parch     Ticket     Fare Cabin Embarked\n",
      "0          892       3                              Kelly, Mr. James    male  34.5      0      0     330911   7.8292   NaN        Q\n",
      "1          893       3              Wilkes, Mrs. James (Ellen Needs)  female  47.0      1      0     363272   7.0000   NaN        S\n",
      "2          894       2                     Myles, Mr. Thomas Francis    male  62.0      0      0     240276   9.6875   NaN        Q\n",
      "3          895       3                              Wirz, Mr. Albert    male  27.0      0      0     315154   8.6625   NaN        S\n",
      "4          896       3  Hirvonen, Mrs. Alexander (Helga E Lindqvist)  female  22.0      1      1    3101298  12.2875   NaN        S\n",
      "5          897       3                    Svensson, Mr. Johan Cervin    male  14.0      0      0       7538   9.2250   NaN        S\n",
      "6          898       3                          Connolly, Miss. Kate  female  30.0      0      0     330972   7.6292   NaN        Q\n",
      "7          899       2                  Caldwell, Mr. Albert Francis    male  26.0      1      1     248738  29.0000   NaN        S\n",
      "8          900       3     Abrahim, Mrs. Joseph (Sophie Halaut Easu)  female  18.0      0      0       2657   7.2292   NaN        C\n",
      "9          901       3                       Davies, Mr. John Samuel    male  21.0      2      0  A/4 48871  24.1500   NaN        S\n",
      "<class 'pandas.core.frame.DataFrame'>\n",
      "RangeIndex: 418 entries, 0 to 417\n",
      "Data columns (total 11 columns):\n",
      " #   Column       Non-Null Count  Dtype  \n",
      "---  ------       --------------  -----  \n",
      " 0   PassengerId  418 non-null    int64  \n",
      " 1   Pclass       418 non-null    int64  \n",
      " 2   Name         418 non-null    object \n",
      " 3   Sex          418 non-null    object \n",
      " 4   Age          332 non-null    float64\n",
      " 5   SibSp        418 non-null    int64  \n",
      " 6   Parch        418 non-null    int64  \n",
      " 7   Ticket       418 non-null    object \n",
      " 8   Fare         417 non-null    float64\n",
      " 9   Cabin        91 non-null     object \n",
      " 10  Embarked     418 non-null    object \n",
      "dtypes: float64(2), int64(4), object(5)\n",
      "memory usage: 36.0+ KB\n",
      "None\n"
     ]
    }
   ],
   "source": [
    "print(test_data.head(10))\n",
    "print(test_data.info())"
   ]
  },
  {
   "cell_type": "markdown",
   "metadata": {
    "colab_type": "text",
    "id": "z44GSL4eN9QI"
   },
   "source": [
    "##Data Cleaning\n"
   ]
  },
  {
   "cell_type": "markdown",
   "metadata": {
    "colab_type": "text",
    "id": "-S9SB9tIOBLM"
   },
   "source": [
    "Reviewing the data to check if any aberrant or non-acceptable data inputs appear in the data. An Age of 800 should be corrected.\n",
    "\n",
    "As we can see in the `df.info()` above, the Age needs to be corrected in both DataFrames.  \n",
    "Also there seems to be a Fare value missing in the `test_data`.  \n",
    "  \n",
    "There also seems to be data, which we can straight out delete from our DataFrames."
   ]
  },
  {
   "cell_type": "code",
   "execution_count": 5,
   "metadata": {
    "ExecuteTime": {
     "end_time": "2020-06-08T11:29:32.453182Z",
     "start_time": "2020-06-08T11:29:32.413240Z"
    },
    "colab": {
     "base_uri": "https://localhost:8080/",
     "height": 750
    },
    "colab_type": "code",
    "id": "nKz6CIthPoe1",
    "outputId": "26370854-c6de-47fa-e016-e29ce16613ed"
   },
   "outputs": [
    {
     "name": "stdout",
     "output_type": "stream",
     "text": [
      "   Survived  Pclass                                               Name     Sex   Age     Fare  Gender\n",
      "0         0       3                            Braund, Mr. Owen Harris    male  22.0   7.2500       1\n",
      "1         1       1  Cumings, Mrs. John Bradley (Florence Briggs Th...  female  38.0  71.2833       0\n",
      "2         1       3                             Heikkinen, Miss. Laina  female  26.0   7.9250       0\n",
      "3         1       1       Futrelle, Mrs. Jacques Heath (Lily May Peel)  female  35.0  53.1000       0\n",
      "4         0       3                           Allen, Mr. William Henry    male  35.0   8.0500       1\n",
      "<class 'pandas.core.frame.DataFrame'>\n",
      "RangeIndex: 891 entries, 0 to 890\n",
      "Data columns (total 7 columns):\n",
      " #   Column    Non-Null Count  Dtype  \n",
      "---  ------    --------------  -----  \n",
      " 0   Survived  891 non-null    int64  \n",
      " 1   Pclass    891 non-null    int64  \n",
      " 2   Name      891 non-null    object \n",
      " 3   Sex       891 non-null    object \n",
      " 4   Age       891 non-null    float64\n",
      " 5   Fare      891 non-null    float64\n",
      " 6   Gender    891 non-null    int64  \n",
      "dtypes: float64(2), int64(3), object(2)\n",
      "memory usage: 48.9+ KB\n",
      "None\n",
      "   Pclass                                          Name     Sex   Age     Fare  Gender\n",
      "0       3                              Kelly, Mr. James    male  34.5   7.8292       1\n",
      "1       3              Wilkes, Mrs. James (Ellen Needs)  female  47.0   7.0000       0\n",
      "2       2                     Myles, Mr. Thomas Francis    male  62.0   9.6875       1\n",
      "3       3                              Wirz, Mr. Albert    male  27.0   8.6625       1\n",
      "4       3  Hirvonen, Mrs. Alexander (Helga E Lindqvist)  female  22.0  12.2875       0\n",
      "<class 'pandas.core.frame.DataFrame'>\n",
      "RangeIndex: 418 entries, 0 to 417\n",
      "Data columns (total 6 columns):\n",
      " #   Column  Non-Null Count  Dtype  \n",
      "---  ------  --------------  -----  \n",
      " 0   Pclass  418 non-null    int64  \n",
      " 1   Name    418 non-null    object \n",
      " 2   Sex     418 non-null    object \n",
      " 3   Age     418 non-null    float64\n",
      " 4   Fare    418 non-null    float64\n",
      " 5   Gender  418 non-null    int64  \n",
      "dtypes: float64(2), int64(2), object(2)\n",
      "memory usage: 19.7+ KB\n",
      "None\n"
     ]
    }
   ],
   "source": [
    "data = [train_data, test_data]\n",
    "columns_to_drop = [\"PassengerId\", \"Ticket\", \"Cabin\", \"SibSp\", \"Parch\", \"Embarked\"]\n",
    "\n",
    "for d in data:\n",
    "  d[\"Age\"].fillna(d[\"Age\"].median(), inplace=True)\n",
    "  d[\"Fare\"].fillna(d[\"Fare\"].median(), inplace=True)\n",
    "  d[\"Gender\"] = [1 if (i == \"male\") else 0 for i in d[\"Sex\"]]\n",
    "  d.drop(columns_to_drop, inplace=True, axis=1)\n",
    "\n",
    "\n",
    "for d in data:\n",
    "  print(d.head(5))\n",
    "  print(d.info())"
   ]
  },
  {
   "cell_type": "markdown",
   "metadata": {
    "colab_type": "text",
    "id": "24lATmqeRfGe"
   },
   "source": [
    "## Visualizing the data"
   ]
  },
  {
   "cell_type": "code",
   "execution_count": 6,
   "metadata": {
    "ExecuteTime": {
     "end_time": "2020-06-08T11:29:33.647801Z",
     "start_time": "2020-06-08T11:29:32.456048Z"
    },
    "colab": {
     "base_uri": "https://localhost:8080/",
     "height": 748
    },
    "colab_type": "code",
    "id": "9XoEHu7mResj",
    "outputId": "dedc0fc7-7b4e-4a05-968b-4e1d3cf46c2d"
   },
   "outputs": [
    {
     "data": {
      "text/plain": [
       "Text(0.5, 0, 'Class')"
      ]
     },
     "execution_count": 6,
     "metadata": {},
     "output_type": "execute_result"
    },
    {
     "data": {
      "image/png": "[encoded data removed]",
      "text/plain": [
       "<Figure size 1440x864 with 8 Axes>"
      ]
     },
     "metadata": {
      "needs_background": "light"
     },
     "output_type": "display_data"
    }
   ],
   "source": [
    "plt.figure(figsize=[20,12])\n",
    "\n",
    "plt.subplot(241)\n",
    "plt.boxplot(x = train_data[\"Age\"])\n",
    "plt.title(\"Age Distribution\")\n",
    "plt.ylabel(\"Age\")\n",
    "\n",
    "plt.subplot(242)\n",
    "plt.boxplot(x = train_data[\"Fare\"])\n",
    "plt.title(\"Fare Distribution\")\n",
    "plt.ylabel(\"Fare\")\n",
    "\n",
    "plt.subplot(243)\n",
    "# 1 = male; 0 = female\n",
    "plt.boxplot(x = [train_data[train_data[\"Gender\"] == 0][\"Age\"], train_data[train_data[\"Gender\"] == 1][\"Age\"]])\n",
    "plt.title(\"Age Distribution by Gende \")\n",
    "plt.ylabel(\"Age\")\n",
    "\n",
    "plt.subplot(244)\n",
    "# 1 = male; 0 = female\n",
    "plt.boxplot(x = [train_data[train_data[\"Pclass\"] == 1][\"Age\"], train_data[train_data[\"Pclass\"] == 2][\"Age\"], train_data[train_data[\"Pclass\"] == 3][\"Age\"]])\n",
    "plt.title(\"Age Distribution by Class\")\n",
    "plt.ylabel(\"Age\")\n",
    "plt.xlabel(\"Class\")\n",
    "\n",
    "plt.subplot(245)\n",
    "plt.hist(x = [train_data[train_data[\"Survived\"] == 1][\"Age\"], train_data[train_data[\"Survived\"] == 0][\"Age\"]], stacked=True, color=[\"green\", \"red\"], label=[\"survived\", \"died\"])\n",
    "plt.title(\"Age Histogramm (Survival)\")\n",
    "plt.ylabel(\"Number of Passangers\")\n",
    "plt.xlabel(\"Age\")\n",
    "plt.legend()\n",
    "\n",
    "plt.subplot(246)\n",
    "plt.hist(x = [train_data[train_data[\"Survived\"] == 1][\"Fare\"], train_data[train_data[\"Survived\"] == 0][\"Fare\"]], stacked=True, color=[\"green\", \"red\"], label=[\"survived\", \"died\"])\n",
    "plt.title(\"Fare Histogram (Surviral)\")\n",
    "plt.ylabel(\"Number of Passangers\")\n",
    "plt.xlabel(\"Fare\")\n",
    "plt.legend()\n",
    "\n",
    "plt.subplot(247)\n",
    "plt.hist(x = [train_data[train_data[\"Survived\"] == 1][\"Gender\"], train_data[train_data[\"Survived\"] == 0][\"Gender\"]], bins=2, color = [\"Green\", \"Red\"], label=[\"survived\", \"died\"])\n",
    "plt.xticks([0,1])\n",
    "plt.legend()\n",
    "plt.title(\"Male vs. Female Survivability\")\n",
    "plt.xlabel(\"Gender\")\n",
    "plt.ylabel(\"Number of Passangers\")\n",
    "\n",
    "plt.subplot(248)\n",
    "# 1 = male; 0 = female\n",
    "plt.hist(x = [ train_data[train_data[\"Survived\"] == 1][\"Pclass\"], train_data[train_data[\"Survived\"] == 0][\"Pclass\"]], stacked=True, bins=3, color=[\"Green\", \"Red\"], label=[\"survived\", \"died\"], align=\"mid\")\n",
    "plt.title(\"Survival per Class\")\n",
    "plt.ylabel(\"Number of Passengers\")\n",
    "plt.xlabel(\"Class\")"
   ]
  },
  {
   "cell_type": "code",
   "execution_count": 7,
   "metadata": {
    "ExecuteTime": {
     "end_time": "2020-06-08T11:29:34.283708Z",
     "start_time": "2020-06-08T11:29:33.650470Z"
    },
    "colab": {
     "base_uri": "https://localhost:8080/",
     "height": 732
    },
    "colab_type": "code",
    "id": "BZ5QbORe3Qoo",
    "outputId": "c4fb6454-1e4d-4165-d8e7-92afe911cea3"
   },
   "outputs": [
    {
     "data": {
      "text/plain": [
       "<matplotlib.axes._subplots.AxesSubplot at 0x1a1d41b690>"
      ]
     },
     "execution_count": 7,
     "metadata": {},
     "output_type": "execute_result"
    },
    {
     "data": {
      "image/png": "[encoded data removed]",
      "text/plain": [
       "<Figure size 1440x864 with 4 Axes>"
      ]
     },
     "metadata": {
      "needs_background": "light"
     },
     "output_type": "display_data"
    }
   ],
   "source": [
    "f, axes = plt.subplots(1, 4)\n",
    "f.set_size_inches(20, 12)\n",
    "\n",
    "sns.boxplot(x=\"Age\", data=train_data, ax=axes[0], orient=\"v\")\n",
    "sns.boxplot(x=\"Fare\", data=train_data, ax=axes[1], orient=\"v\")\n",
    "sns.boxplot(x=\"Sex\", y=\"Age\", data=train_data, ax=axes[2])\n",
    "sns.boxplot(x=\"Pclass\", y=\"Age\", data=train_data, ax=axes[3])"
   ]
  },
  {
   "cell_type": "markdown",
   "metadata": {},
   "source": [
    "### Survival by Age"
   ]
  },
  {
   "cell_type": "code",
   "execution_count": 8,
   "metadata": {
    "ExecuteTime": {
     "end_time": "2020-06-08T11:29:34.767192Z",
     "start_time": "2020-06-08T11:29:34.286192Z"
    },
    "colab": {
     "base_uri": "https://localhost:8080/",
     "height": 434
    },
    "colab_type": "code",
    "id": "gKoMvi_-EOJ_",
    "outputId": "61baa84a-3533-4029-d4f0-26a237012c0f"
   },
   "outputs": [
    {
     "data": {
      "text/plain": [
       "<seaborn.axisgrid.FacetGrid at 0x1a1eb47fd0>"
      ]
     },
     "execution_count": 8,
     "metadata": {},
     "output_type": "execute_result"
    },
    {
     "data": {
      "image/png": "[encoded data removed]",
      "text/plain": [
       "<Figure size 915.875x216 with 1 Axes>"
      ]
     },
     "metadata": {
      "needs_background": "light"
     },
     "output_type": "display_data"
    }
   ],
   "source": [
    "a = sns.FacetGrid( train_data, hue = 'Survived', aspect=4 )\n",
    "a.map(sns.kdeplot, 'Age', shade= True )\n",
    "a.set(xlim=(0 , train_data['Age'].max()))\n",
    "a.add_legend()"
   ]
  },
  {
   "cell_type": "markdown",
   "metadata": {
    "colab_type": "text",
    "id": "j18tBGbwilbW"
   },
   "source": [
    "## Train Test Split\n",
    "\n",
    "The Survived-Column is our Target. The other columns are our features.\n",
    "We need to split this DF in features (X) and targets (y)."
   ]
  },
  {
   "cell_type": "code",
   "execution_count": 9,
   "metadata": {
    "ExecuteTime": {
     "end_time": "2020-06-08T11:29:34.797926Z",
     "start_time": "2020-06-08T11:29:34.773949Z"
    },
    "colab": {
     "base_uri": "https://localhost:8080/",
     "height": 363
    },
    "colab_type": "code",
    "id": "qYWJGcgAinZP",
    "outputId": "66c358e2-b3b1-4237-d3eb-b97983d287f7"
   },
   "outputs": [
    {
     "data": {
      "text/html": [
       "<div>\n",
       "<style scoped>\n",
       "    .dataframe tbody tr th:only-of-type {\n",
       "        vertical-align: middle;\n",
       "    }\n",
       "\n",
       "    .dataframe tbody tr th {\n",
       "        vertical-align: top;\n",
       "    }\n",
       "\n",
       "    .dataframe thead th {\n",
       "        text-align: right;\n",
       "    }\n",
       "</style>\n",
       "<table border=\"1\" class=\"dataframe\">\n",
       "  <thead>\n",
       "    <tr style=\"text-align: right;\">\n",
       "      <th></th>\n",
       "      <th>Survived</th>\n",
       "      <th>Pclass</th>\n",
       "      <th>Name</th>\n",
       "      <th>Sex</th>\n",
       "      <th>Age</th>\n",
       "      <th>Fare</th>\n",
       "      <th>Gender</th>\n",
       "    </tr>\n",
       "  </thead>\n",
       "  <tbody>\n",
       "    <tr>\n",
       "      <th>0</th>\n",
       "      <td>0</td>\n",
       "      <td>3</td>\n",
       "      <td>Braund, Mr. Owen Harris</td>\n",
       "      <td>male</td>\n",
       "      <td>22.0</td>\n",
       "      <td>7.2500</td>\n",
       "      <td>1</td>\n",
       "    </tr>\n",
       "    <tr>\n",
       "      <th>1</th>\n",
       "      <td>1</td>\n",
       "      <td>1</td>\n",
       "      <td>Cumings, Mrs. John Bradley (Florence Briggs Th...</td>\n",
       "      <td>female</td>\n",
       "      <td>38.0</td>\n",
       "      <td>71.2833</td>\n",
       "      <td>0</td>\n",
       "    </tr>\n",
       "    <tr>\n",
       "      <th>2</th>\n",
       "      <td>1</td>\n",
       "      <td>3</td>\n",
       "      <td>Heikkinen, Miss. Laina</td>\n",
       "      <td>female</td>\n",
       "      <td>26.0</td>\n",
       "      <td>7.9250</td>\n",
       "      <td>0</td>\n",
       "    </tr>\n",
       "    <tr>\n",
       "      <th>3</th>\n",
       "      <td>1</td>\n",
       "      <td>1</td>\n",
       "      <td>Futrelle, Mrs. Jacques Heath (Lily May Peel)</td>\n",
       "      <td>female</td>\n",
       "      <td>35.0</td>\n",
       "      <td>53.1000</td>\n",
       "      <td>0</td>\n",
       "    </tr>\n",
       "    <tr>\n",
       "      <th>4</th>\n",
       "      <td>0</td>\n",
       "      <td>3</td>\n",
       "      <td>Allen, Mr. William Henry</td>\n",
       "      <td>male</td>\n",
       "      <td>35.0</td>\n",
       "      <td>8.0500</td>\n",
       "      <td>1</td>\n",
       "    </tr>\n",
       "    <tr>\n",
       "      <th>5</th>\n",
       "      <td>0</td>\n",
       "      <td>3</td>\n",
       "      <td>Moran, Mr. James</td>\n",
       "      <td>male</td>\n",
       "      <td>28.0</td>\n",
       "      <td>8.4583</td>\n",
       "      <td>1</td>\n",
       "    </tr>\n",
       "    <tr>\n",
       "      <th>6</th>\n",
       "      <td>0</td>\n",
       "      <td>1</td>\n",
       "      <td>McCarthy, Mr. Timothy J</td>\n",
       "      <td>male</td>\n",
       "      <td>54.0</td>\n",
       "      <td>51.8625</td>\n",
       "      <td>1</td>\n",
       "    </tr>\n",
       "    <tr>\n",
       "      <th>7</th>\n",
       "      <td>0</td>\n",
       "      <td>3</td>\n",
       "      <td>Palsson, Master. Gosta Leonard</td>\n",
       "      <td>male</td>\n",
       "      <td>2.0</td>\n",
       "      <td>21.0750</td>\n",
       "      <td>1</td>\n",
       "    </tr>\n",
       "    <tr>\n",
       "      <th>8</th>\n",
       "      <td>1</td>\n",
       "      <td>3</td>\n",
       "      <td>Johnson, Mrs. Oscar W (Elisabeth Vilhelmina Berg)</td>\n",
       "      <td>female</td>\n",
       "      <td>27.0</td>\n",
       "      <td>11.1333</td>\n",
       "      <td>0</td>\n",
       "    </tr>\n",
       "    <tr>\n",
       "      <th>9</th>\n",
       "      <td>1</td>\n",
       "      <td>2</td>\n",
       "      <td>Nasser, Mrs. Nicholas (Adele Achem)</td>\n",
       "      <td>female</td>\n",
       "      <td>14.0</td>\n",
       "      <td>30.0708</td>\n",
       "      <td>0</td>\n",
       "    </tr>\n",
       "  </tbody>\n",
       "</table>\n",
       "</div>"
      ],
      "text/plain": [
       "   Survived  Pclass                                               Name     Sex   Age     Fare  Gender\n",
       "0         0       3                            Braund, Mr. Owen Harris    male  22.0   7.2500       1\n",
       "1         1       1  Cumings, Mrs. John Bradley (Florence Briggs Th...  female  38.0  71.2833       0\n",
       "2         1       3                             Heikkinen, Miss. Laina  female  26.0   7.9250       0\n",
       "3         1       1       Futrelle, Mrs. Jacques Heath (Lily May Peel)  female  35.0  53.1000       0\n",
       "4         0       3                           Allen, Mr. William Henry    male  35.0   8.0500       1\n",
       "5         0       3                                   Moran, Mr. James    male  28.0   8.4583       1\n",
       "6         0       1                            McCarthy, Mr. Timothy J    male  54.0  51.8625       1\n",
       "7         0       3                     Palsson, Master. Gosta Leonard    male   2.0  21.0750       1\n",
       "8         1       3  Johnson, Mrs. Oscar W (Elisabeth Vilhelmina Berg)  female  27.0  11.1333       0\n",
       "9         1       2                Nasser, Mrs. Nicholas (Adele Achem)  female  14.0  30.0708       0"
      ]
     },
     "execution_count": 9,
     "metadata": {},
     "output_type": "execute_result"
    }
   ],
   "source": [
    "train_data.head(10)"
   ]
  },
  {
   "cell_type": "code",
   "execution_count": 10,
   "metadata": {
    "ExecuteTime": {
     "end_time": "2020-06-08T11:29:34.811469Z",
     "start_time": "2020-06-08T11:29:34.805162Z"
    },
    "colab": {},
    "colab_type": "code",
    "id": "dUw615-ujJTS"
   },
   "outputs": [],
   "source": [
    "features = train_data[[\"Pclass\", \"Age\", \"Gender\"]]\n",
    "target = train_data[\"Survived\"]"
   ]
  },
  {
   "cell_type": "markdown",
   "metadata": {
    "colab_type": "text",
    "id": "1JbpX91erOFM"
   },
   "source": [
    "Moreover we need to further split the features and targets in data for training and testing our model. This is done with the `train_test_split`."
   ]
  },
  {
   "cell_type": "code",
   "execution_count": 11,
   "metadata": {
    "ExecuteTime": {
     "end_time": "2020-06-08T11:29:34.821875Z",
     "start_time": "2020-06-08T11:29:34.814621Z"
    },
    "colab": {},
    "colab_type": "code",
    "id": "f2jl9iCrjZwb"
   },
   "outputs": [],
   "source": [
    "X_train, X_test, y_train, y_test = train_test_split(features, target)"
   ]
  },
  {
   "cell_type": "markdown",
   "metadata": {
    "colab_type": "text",
    "id": "4K9DKc-7rggb"
   },
   "source": [
    "Since `skleanr`'s Logistic Regression implementation uses Regularization, we need to scale our feature data with the `Standard Scaler`.  \n",
    "This will be fitted with our X_train data and the X_test data will be scaled the same way afterwads."
   ]
  },
  {
   "cell_type": "code",
   "execution_count": 12,
   "metadata": {
    "ExecuteTime": {
     "end_time": "2020-06-08T11:29:34.836123Z",
     "start_time": "2020-06-08T11:29:34.826073Z"
    },
    "colab": {},
    "colab_type": "code",
    "id": "m_jvdYTEnHew"
   },
   "outputs": [],
   "source": [
    "scaler = StandardScaler()\n",
    "X_train = scaler.fit_transform(X_train)\n",
    "X_test = scaler.transform(X_test)"
   ]
  },
  {
   "cell_type": "markdown",
   "metadata": {
    "colab_type": "text",
    "id": "2mmGbVMYrypN"
   },
   "source": [
    "## Logisitc Regression Model\n",
    "\n",
    "### Model Creation\n",
    "\n",
    "After the data is scaled we create our Logistic Regression Model and fit it with the training features (`X_train`) and training labels (`y_train`)."
   ]
  },
  {
   "cell_type": "code",
   "execution_count": 13,
   "metadata": {
    "ExecuteTime": {
     "end_time": "2020-06-08T11:29:34.855898Z",
     "start_time": "2020-06-08T11:29:34.838826Z"
    },
    "colab": {
     "base_uri": "https://localhost:8080/",
     "height": 106
    },
    "colab_type": "code",
    "id": "hHfDIOGBnvml",
    "outputId": "14c70cc9-4ef3-4170-ffe0-cb8eca96cebe"
   },
   "outputs": [
    {
     "data": {
      "text/plain": [
       "LogisticRegression(C=1.0, class_weight=None, dual=False, fit_intercept=True,\n",
       "                   intercept_scaling=1, l1_ratio=None, max_iter=100,\n",
       "                   multi_class='auto', n_jobs=None, penalty='l2',\n",
       "                   random_state=None, solver='lbfgs', tol=0.0001, verbose=0,\n",
       "                   warm_start=False)"
      ]
     },
     "execution_count": 13,
     "metadata": {},
     "output_type": "execute_result"
    }
   ],
   "source": [
    "model = LogisticRegression()\n",
    "model.fit(X_train, y_train)"
   ]
  },
  {
   "cell_type": "markdown",
   "metadata": {},
   "source": [
    "### Model Score\n",
    "\n",
    "#### Training-Data"
   ]
  },
  {
   "cell_type": "code",
   "execution_count": 14,
   "metadata": {
    "ExecuteTime": {
     "end_time": "2020-06-08T11:29:34.868478Z",
     "start_time": "2020-06-08T11:29:34.859596Z"
    },
    "colab": {
     "base_uri": "https://localhost:8080/",
     "height": 35
    },
    "colab_type": "code",
    "id": "_x-Gmawgn3In",
    "outputId": "bff20853-7982-4ead-efb9-81868cc07cfa"
   },
   "outputs": [
    {
     "data": {
      "text/plain": [
       "0.7724550898203593"
      ]
     },
     "execution_count": 14,
     "metadata": {},
     "output_type": "execute_result"
    }
   ],
   "source": [
    "model.score(X_train, y_train)"
   ]
  },
  {
   "cell_type": "markdown",
   "metadata": {},
   "source": [
    "#### Test-Data"
   ]
  },
  {
   "cell_type": "code",
   "execution_count": 15,
   "metadata": {
    "ExecuteTime": {
     "end_time": "2020-06-08T11:29:34.879134Z",
     "start_time": "2020-06-08T11:29:34.871382Z"
    },
    "colab": {
     "base_uri": "https://localhost:8080/",
     "height": 35
    },
    "colab_type": "code",
    "id": "DZvN7uhaoIYE",
    "outputId": "be3fc777-f066-43d6-a638-76aa21698186"
   },
   "outputs": [
    {
     "data": {
      "text/plain": [
       "0.8161434977578476"
      ]
     },
     "execution_count": 15,
     "metadata": {},
     "output_type": "execute_result"
    }
   ],
   "source": [
    "model.score(X_test, y_test)"
   ]
  },
  {
   "cell_type": "markdown",
   "metadata": {},
   "source": [
    "#### Coef_ and Intercept"
   ]
  },
  {
   "cell_type": "code",
   "execution_count": 16,
   "metadata": {
    "ExecuteTime": {
     "end_time": "2020-06-08T11:29:34.892910Z",
     "start_time": "2020-06-08T11:29:34.884774Z"
    },
    "colab": {
     "base_uri": "https://localhost:8080/",
     "height": 35
    },
    "colab_type": "code",
    "id": "J8mSD_zToWfl",
    "outputId": "17a55533-8ee0-46af-9e8b-c9d8211394c6"
   },
   "outputs": [
    {
     "data": {
      "text/plain": [
       "array([[-0.99259779, -0.43002451, -1.17635728]])"
      ]
     },
     "execution_count": 16,
     "metadata": {},
     "output_type": "execute_result"
    }
   ],
   "source": [
    "model.coef_"
   ]
  },
  {
   "cell_type": "code",
   "execution_count": 17,
   "metadata": {
    "ExecuteTime": {
     "end_time": "2020-06-08T11:29:34.903075Z",
     "start_time": "2020-06-08T11:29:34.895747Z"
    }
   },
   "outputs": [
    {
     "data": {
      "text/plain": [
       "array([-0.68108483])"
      ]
     },
     "execution_count": 17,
     "metadata": {},
     "output_type": "execute_result"
    }
   ],
   "source": [
    "model.intercept_"
   ]
  },
  {
   "cell_type": "markdown",
   "metadata": {},
   "source": [
    "### Predictions\n",
    "\n",
    "#### Probabilities"
   ]
  },
  {
   "cell_type": "code",
   "execution_count": 18,
   "metadata": {
    "ExecuteTime": {
     "end_time": "2020-06-08T11:29:34.920811Z",
     "start_time": "2020-06-08T11:29:34.906594Z"
    },
    "colab": {
     "base_uri": "https://localhost:8080/",
     "height": 1000
    },
    "colab_type": "code",
    "id": "FJ0czf7YpwB1",
    "outputId": "b1e7ab1d-287a-4ac0-9d9f-8aac09844663"
   },
   "outputs": [
    {
     "data": {
      "text/plain": [
       "array([[0.56012967, 0.43987033],\n",
       "       [0.36446376, 0.63553624],\n",
       "       [0.89282813, 0.10717187],\n",
       "       [0.28432907, 0.71567093],\n",
       "       [0.39076658, 0.60923342],\n",
       "       [0.40390923, 0.59609077],\n",
       "       [0.79646536, 0.20353464],\n",
       "       [0.07348033, 0.92651967],\n",
       "       [0.91053358, 0.08946642],\n",
       "       [0.91053358, 0.08946642],\n",
       "       [0.91053358, 0.08946642],\n",
       "       [0.44463703, 0.55536297],\n",
       "       [0.90494613, 0.09505387],\n",
       "       [0.55189259, 0.44810741],\n",
       "       [0.47701869, 0.52298131],\n",
       "       [0.80182109, 0.19817891],\n",
       "       [0.88627305, 0.11372695],\n",
       "       [0.46117136, 0.53882864],\n",
       "       [0.84372093, 0.15627907],\n",
       "       [0.75598145, 0.24401855],\n",
       "       [0.91053358, 0.08946642],\n",
       "       [0.89904843, 0.10095157],\n",
       "       [0.45212374, 0.54787626],\n",
       "       [0.91053358, 0.08946642],\n",
       "       [0.87211092, 0.12788908],\n",
       "       [0.69645262, 0.30354738],\n",
       "       [0.06489496, 0.93510504],\n",
       "       [0.0322336 , 0.9677664 ],\n",
       "       [0.91053358, 0.08946642],\n",
       "       [0.9455278 , 0.0544722 ],\n",
       "       [0.9391901 , 0.0608099 ],\n",
       "       [0.9455278 , 0.0544722 ],\n",
       "       [0.92782452, 0.07217548],\n",
       "       [0.75598145, 0.24401855],\n",
       "       [0.8828662 , 0.1171338 ],\n",
       "       [0.9455278 , 0.0544722 ],\n",
       "       [0.0910532 , 0.9089468 ],\n",
       "       [0.46117136, 0.53882864],\n",
       "       [0.55265858, 0.44734142],\n",
       "       [0.91053358, 0.08946642],\n",
       "       [0.91053358, 0.08946642],\n",
       "       [0.87211092, 0.12788908],\n",
       "       [0.46117136, 0.53882864],\n",
       "       [0.18565499, 0.81434501],\n",
       "       [0.93424763, 0.06575237],\n",
       "       [0.91321481, 0.08678519],\n",
       "       [0.31225094, 0.68774906],\n",
       "       [0.89282813, 0.10717187],\n",
       "       [0.58462572, 0.41537428],\n",
       "       [0.92082714, 0.07917286],\n",
       "       [0.71037329, 0.28962671],\n",
       "       [0.18565499, 0.81434501],\n",
       "       [0.65522856, 0.34477144],\n",
       "       [0.18565499, 0.81434501],\n",
       "       [0.91053358, 0.08946642],\n",
       "       [0.11568934, 0.88431066],\n",
       "       [0.95496608, 0.04503392],\n",
       "       [0.8806223 , 0.1193777 ],\n",
       "       [0.61662873, 0.38337127],\n",
       "       [0.8103988 , 0.1896012 ],\n",
       "       [0.24760106, 0.75239894],\n",
       "       [0.91053358, 0.08946642],\n",
       "       [0.42822439, 0.57177561],\n",
       "       [0.8828662 , 0.1171338 ],\n",
       "       [0.69895138, 0.30104862],\n",
       "       [0.8495906 , 0.1504094 ],\n",
       "       [0.40390923, 0.59609077],\n",
       "       [0.10903506, 0.89096494],\n",
       "       [0.42007461, 0.57992539],\n",
       "       [0.77975581, 0.22024419],\n",
       "       [0.93002738, 0.06997262],\n",
       "       [0.42822439, 0.57177561],\n",
       "       [0.55189259, 0.44810741],\n",
       "       [0.92782452, 0.07217548],\n",
       "       [0.48195576, 0.51804424],\n",
       "       [0.91053358, 0.08946642],\n",
       "       [0.15884411, 0.84115589],\n",
       "       [0.0910532 , 0.9089468 ],\n",
       "       [0.19595686, 0.80404314],\n",
       "       [0.79837918, 0.20162082],\n",
       "       [0.67488394, 0.32511606],\n",
       "       [0.29361874, 0.70638126],\n",
       "       [0.10583553, 0.89416447],\n",
       "       [0.60073476, 0.39926524],\n",
       "       [0.04735512, 0.95264488],\n",
       "       [0.42007461, 0.57992539],\n",
       "       [0.13779893, 0.86220107],\n",
       "       [0.68935256, 0.31064744],\n",
       "       [0.88959319, 0.11040681],\n",
       "       [0.92555785, 0.07444215],\n",
       "       [0.91053358, 0.08946642],\n",
       "       [0.90203684, 0.09796316],\n",
       "       [0.58537779, 0.41462221],\n",
       "       [0.91053358, 0.08946642],\n",
       "       [0.46117136, 0.53882864],\n",
       "       [0.27758831, 0.72241169],\n",
       "       [0.48534864, 0.51465136],\n",
       "       [0.87937119, 0.12062881],\n",
       "       [0.97926721, 0.02073279],\n",
       "       [0.50280279, 0.49719721],\n",
       "       [0.93002738, 0.06997262],\n",
       "       [0.90203684, 0.09796316],\n",
       "       [0.19075278, 0.80924722],\n",
       "       [0.46117136, 0.53882864],\n",
       "       [0.19075278, 0.80924722],\n",
       "       [0.74571433, 0.25428567],\n",
       "       [0.17749935, 0.82250065],\n",
       "       [0.75598145, 0.24401855],\n",
       "       [0.87937119, 0.12062881],\n",
       "       [0.46117136, 0.53882864],\n",
       "       [0.8806223 , 0.1193777 ],\n",
       "       [0.89904843, 0.10095157],\n",
       "       [0.91053358, 0.08946642],\n",
       "       [0.92082714, 0.07917286],\n",
       "       [0.05375342, 0.94624658],\n",
       "       [0.14592114, 0.85407886],\n",
       "       [0.89282813, 0.10717187],\n",
       "       [0.11790927, 0.88209073],\n",
       "       [0.0910532 , 0.9089468 ],\n",
       "       [0.91321481, 0.08678519],\n",
       "       [0.91053358, 0.08946642],\n",
       "       [0.78260768, 0.21739232],\n",
       "       [0.56012967, 0.43987033],\n",
       "       [0.46117136, 0.53882864],\n",
       "       [0.25386953, 0.74613047],\n",
       "       [0.10788945, 0.89211055],\n",
       "       [0.09385275, 0.90614725],\n",
       "       [0.49368674, 0.50631326],\n",
       "       [0.46117136, 0.53882864],\n",
       "       [0.18565499, 0.81434501],\n",
       "       [0.13779893, 0.86220107],\n",
       "       [0.46117136, 0.53882864],\n",
       "       [0.88627305, 0.11372695],\n",
       "       [0.24143729, 0.75856271],\n",
       "       [0.48534864, 0.51465136],\n",
       "       [0.24143729, 0.75856271],\n",
       "       [0.58462572, 0.41537428],\n",
       "       [0.90494613, 0.09505387],\n",
       "       [0.88627305, 0.11372695],\n",
       "       [0.380057  , 0.619943  ],\n",
       "       [0.20126761, 0.79873239],\n",
       "       [0.86448102, 0.13551898],\n",
       "       [0.91053358, 0.08946642],\n",
       "       [0.91053358, 0.08946642],\n",
       "       [0.91053358, 0.08946642],\n",
       "       [0.9391901 , 0.0608099 ],\n",
       "       [0.48534864, 0.51465136],\n",
       "       [0.9232259 , 0.0767741 ],\n",
       "       [0.93823024, 0.06176976],\n",
       "       [0.91053358, 0.08946642],\n",
       "       [0.14037577, 0.85962423],\n",
       "       [0.91053358, 0.08946642],\n",
       "       [0.97675851, 0.02324149],\n",
       "       [0.07348033, 0.92651967],\n",
       "       [0.89282813, 0.10717187],\n",
       "       [0.73704559, 0.26295441],\n",
       "       [0.8828662 , 0.1171338 ],\n",
       "       [0.0609609 , 0.9390391 ],\n",
       "       [0.82044116, 0.17955884],\n",
       "       [0.05375342, 0.94624658],\n",
       "       [0.91053358, 0.08946642],\n",
       "       [0.8828662 , 0.1171338 ],\n",
       "       [0.91053358, 0.08946642],\n",
       "       [0.17577631, 0.82422369],\n",
       "       [0.80216522, 0.19783478],\n",
       "       [0.21784195, 0.78215805],\n",
       "       [0.05907852, 0.94092148],\n",
       "       [0.05547613, 0.94452387],\n",
       "       [0.87937119, 0.12062881],\n",
       "       [0.13005998, 0.86994002],\n",
       "       [0.91673197, 0.08326803],\n",
       "       [0.90777786, 0.09222214],\n",
       "       [0.20668529, 0.79331471],\n",
       "       [0.66272695, 0.33727305],\n",
       "       [0.46117136, 0.53882864],\n",
       "       [0.0609609 , 0.9390391 ],\n",
       "       [0.48534864, 0.51465136],\n",
       "       [0.87211092, 0.12788908],\n",
       "       [0.57360543, 0.42639457],\n",
       "       [0.91582313, 0.08417687],\n",
       "       [0.10271906, 0.89728094],\n",
       "       [0.88959319, 0.11040681],\n",
       "       [0.10163224, 0.89836776],\n",
       "       [0.65522856, 0.34477144],\n",
       "       [0.93626792, 0.06373208],\n",
       "       [0.0910532 , 0.9089468 ],\n",
       "       [0.91053358, 0.08946642],\n",
       "       [0.56909359, 0.43090641],\n",
       "       [0.17749935, 0.82250065],\n",
       "       [0.90203684, 0.09796316],\n",
       "       [0.79837918, 0.20162082],\n",
       "       [0.93823024, 0.06176976],\n",
       "       [0.90494613, 0.09505387],\n",
       "       [0.56833377, 0.43166623],\n",
       "       [0.9563795 , 0.0436205 ],\n",
       "       [0.85792107, 0.14207893],\n",
       "       [0.06289924, 0.93710076],\n",
       "       [0.20317892, 0.79682108],\n",
       "       [0.90055262, 0.09944738],\n",
       "       [0.4067649 , 0.5932351 ],\n",
       "       [0.46117136, 0.53882864],\n",
       "       [0.91053358, 0.08946642],\n",
       "       [0.92082714, 0.07917286],\n",
       "       [0.73933527, 0.26066473],\n",
       "       [0.38285234, 0.61714766],\n",
       "       [0.90203684, 0.09796316],\n",
       "       [0.46117136, 0.53882864],\n",
       "       [0.77397187, 0.22602813],\n",
       "       [0.88627305, 0.11372695],\n",
       "       [0.95200732, 0.04799268],\n",
       "       [0.91321481, 0.08678519],\n",
       "       [0.73052764, 0.26947236],\n",
       "       [0.91053358, 0.08946642],\n",
       "       [0.15289556, 0.84710444],\n",
       "       [0.88959319, 0.11040681],\n",
       "       [0.88627305, 0.11372695],\n",
       "       [0.6244855 , 0.3755145 ],\n",
       "       [0.6244855 , 0.3755145 ],\n",
       "       [0.46117136, 0.53882864],\n",
       "       [0.90494613, 0.09505387],\n",
       "       [0.90494613, 0.09505387],\n",
       "       [0.75598145, 0.24401855],\n",
       "       [0.15726754, 0.84273246]])"
      ]
     },
     "execution_count": 18,
     "metadata": {},
     "output_type": "execute_result"
    }
   ],
   "source": [
    "model.predict_proba(X_test)"
   ]
  },
  {
   "cell_type": "markdown",
   "metadata": {},
   "source": [
    "#### Predictions"
   ]
  },
  {
   "cell_type": "code",
   "execution_count": 19,
   "metadata": {
    "ExecuteTime": {
     "end_time": "2020-06-08T11:29:34.932807Z",
     "start_time": "2020-06-08T11:29:34.925210Z"
    }
   },
   "outputs": [
    {
     "data": {
      "text/plain": [
       "array([0, 1, 0, 1, 1, 1, 0, 1, 0, 0, 0, 1, 0, 0, 1, 0, 0, 1, 0, 0, 0, 0,\n",
       "       1, 0, 0, 0, 1, 1, 0, 0, 0, 0, 0, 0, 0, 0, 1, 1, 0, 0, 0, 0, 1, 1,\n",
       "       0, 0, 1, 0, 0, 0, 0, 1, 0, 1, 0, 1, 0, 0, 0, 0, 1, 0, 1, 0, 0, 0,\n",
       "       1, 1, 1, 0, 0, 1, 0, 0, 1, 0, 1, 1, 1, 0, 0, 1, 1, 0, 1, 1, 1, 0,\n",
       "       0, 0, 0, 0, 0, 0, 1, 1, 1, 0, 0, 0, 0, 0, 1, 1, 1, 0, 1, 0, 0, 1,\n",
       "       0, 0, 0, 0, 1, 1, 0, 1, 1, 0, 0, 0, 0, 1, 1, 1, 1, 1, 1, 1, 1, 1,\n",
       "       0, 1, 1, 1, 0, 0, 0, 1, 1, 0, 0, 0, 0, 0, 1, 0, 0, 0, 1, 0, 0, 1,\n",
       "       0, 0, 0, 1, 0, 1, 0, 0, 0, 1, 0, 1, 1, 1, 0, 1, 0, 0, 1, 0, 1, 1,\n",
       "       1, 0, 0, 0, 1, 0, 1, 0, 0, 1, 0, 0, 1, 0, 0, 0, 0, 0, 0, 0, 1, 1,\n",
       "       0, 1, 1, 0, 0, 0, 1, 0, 1, 0, 0, 0, 0, 0, 0, 1, 0, 0, 0, 0, 1, 0,\n",
       "       0, 0, 1])"
      ]
     },
     "execution_count": 19,
     "metadata": {},
     "output_type": "execute_result"
    }
   ],
   "source": [
    "model.predict(X_test)"
   ]
  },
  {
   "cell_type": "markdown",
   "metadata": {},
   "source": [
    "# Second Interation\n",
    "\n",
    "The goal in this chapter is to increase the score of the linear model.\n",
    "\n",
    "## Loading the dataset (again)"
   ]
  },
  {
   "cell_type": "code",
   "execution_count": 20,
   "metadata": {
    "ExecuteTime": {
     "end_time": "2020-06-08T11:29:35.139849Z",
     "start_time": "2020-06-08T11:29:34.935793Z"
    }
   },
   "outputs": [],
   "source": [
    "train = pd.read_csv(\"https://raw.githubusercontent.com/faaabi93/ml/master/models/data/titanic/train.csv\")\n",
    "test = pd.read_csv(\"https://raw.githubusercontent.com/faaabi93/ml/master/models/data/titanic/test.csv\")"
   ]
  },
  {
   "cell_type": "code",
   "execution_count": 21,
   "metadata": {
    "ExecuteTime": {
     "end_time": "2020-06-08T11:29:35.150345Z",
     "start_time": "2020-06-08T11:29:35.142069Z"
    }
   },
   "outputs": [
    {
     "data": {
      "text/plain": [
       "Index(['PassengerId', 'Survived', 'Pclass', 'Name', 'Sex', 'Age', 'SibSp',\n",
       "       'Parch', 'Ticket', 'Fare', 'Cabin', 'Embarked'],\n",
       "      dtype='object')"
      ]
     },
     "execution_count": 21,
     "metadata": {},
     "output_type": "execute_result"
    }
   ],
   "source": [
    "train.columns"
   ]
  },
  {
   "cell_type": "code",
   "execution_count": 22,
   "metadata": {
    "ExecuteTime": {
     "end_time": "2020-06-08T11:29:35.177413Z",
     "start_time": "2020-06-08T11:29:35.153602Z"
    }
   },
   "outputs": [
    {
     "data": {
      "text/html": [
       "<div>\n",
       "<style scoped>\n",
       "    .dataframe tbody tr th:only-of-type {\n",
       "        vertical-align: middle;\n",
       "    }\n",
       "\n",
       "    .dataframe tbody tr th {\n",
       "        vertical-align: top;\n",
       "    }\n",
       "\n",
       "    .dataframe thead th {\n",
       "        text-align: right;\n",
       "    }\n",
       "</style>\n",
       "<table border=\"1\" class=\"dataframe\">\n",
       "  <thead>\n",
       "    <tr style=\"text-align: right;\">\n",
       "      <th></th>\n",
       "      <th>PassengerId</th>\n",
       "      <th>Survived</th>\n",
       "      <th>Pclass</th>\n",
       "      <th>Name</th>\n",
       "      <th>Sex</th>\n",
       "      <th>Age</th>\n",
       "      <th>SibSp</th>\n",
       "      <th>Parch</th>\n",
       "      <th>Ticket</th>\n",
       "      <th>Fare</th>\n",
       "      <th>Cabin</th>\n",
       "      <th>Embarked</th>\n",
       "    </tr>\n",
       "  </thead>\n",
       "  <tbody>\n",
       "    <tr>\n",
       "      <th>0</th>\n",
       "      <td>1</td>\n",
       "      <td>0</td>\n",
       "      <td>3</td>\n",
       "      <td>Braund, Mr. Owen Harris</td>\n",
       "      <td>male</td>\n",
       "      <td>22.0</td>\n",
       "      <td>1</td>\n",
       "      <td>0</td>\n",
       "      <td>A/5 21171</td>\n",
       "      <td>7.2500</td>\n",
       "      <td>NaN</td>\n",
       "      <td>S</td>\n",
       "    </tr>\n",
       "    <tr>\n",
       "      <th>1</th>\n",
       "      <td>2</td>\n",
       "      <td>1</td>\n",
       "      <td>1</td>\n",
       "      <td>Cumings, Mrs. John Bradley (Florence Briggs Th...</td>\n",
       "      <td>female</td>\n",
       "      <td>38.0</td>\n",
       "      <td>1</td>\n",
       "      <td>0</td>\n",
       "      <td>PC 17599</td>\n",
       "      <td>71.2833</td>\n",
       "      <td>C85</td>\n",
       "      <td>C</td>\n",
       "    </tr>\n",
       "    <tr>\n",
       "      <th>2</th>\n",
       "      <td>3</td>\n",
       "      <td>1</td>\n",
       "      <td>3</td>\n",
       "      <td>Heikkinen, Miss. Laina</td>\n",
       "      <td>female</td>\n",
       "      <td>26.0</td>\n",
       "      <td>0</td>\n",
       "      <td>0</td>\n",
       "      <td>STON/O2. 3101282</td>\n",
       "      <td>7.9250</td>\n",
       "      <td>NaN</td>\n",
       "      <td>S</td>\n",
       "    </tr>\n",
       "    <tr>\n",
       "      <th>3</th>\n",
       "      <td>4</td>\n",
       "      <td>1</td>\n",
       "      <td>1</td>\n",
       "      <td>Futrelle, Mrs. Jacques Heath (Lily May Peel)</td>\n",
       "      <td>female</td>\n",
       "      <td>35.0</td>\n",
       "      <td>1</td>\n",
       "      <td>0</td>\n",
       "      <td>113803</td>\n",
       "      <td>53.1000</td>\n",
       "      <td>C123</td>\n",
       "      <td>S</td>\n",
       "    </tr>\n",
       "    <tr>\n",
       "      <th>4</th>\n",
       "      <td>5</td>\n",
       "      <td>0</td>\n",
       "      <td>3</td>\n",
       "      <td>Allen, Mr. William Henry</td>\n",
       "      <td>male</td>\n",
       "      <td>35.0</td>\n",
       "      <td>0</td>\n",
       "      <td>0</td>\n",
       "      <td>373450</td>\n",
       "      <td>8.0500</td>\n",
       "      <td>NaN</td>\n",
       "      <td>S</td>\n",
       "    </tr>\n",
       "  </tbody>\n",
       "</table>\n",
       "</div>"
      ],
      "text/plain": [
       "   PassengerId  Survived  Pclass                                               Name     Sex   Age  SibSp  Parch            Ticket     Fare Cabin Embarked\n",
       "0            1         0       3                            Braund, Mr. Owen Harris    male  22.0      1      0         A/5 21171   7.2500   NaN        S\n",
       "1            2         1       1  Cumings, Mrs. John Bradley (Florence Briggs Th...  female  38.0      1      0          PC 17599  71.2833   C85        C\n",
       "2            3         1       3                             Heikkinen, Miss. Laina  female  26.0      0      0  STON/O2. 3101282   7.9250   NaN        S\n",
       "3            4         1       1       Futrelle, Mrs. Jacques Heath (Lily May Peel)  female  35.0      1      0            113803  53.1000  C123        S\n",
       "4            5         0       3                           Allen, Mr. William Henry    male  35.0      0      0            373450   8.0500   NaN        S"
      ]
     },
     "execution_count": 22,
     "metadata": {},
     "output_type": "execute_result"
    }
   ],
   "source": [
    "train.head(5)"
   ]
  },
  {
   "cell_type": "markdown",
   "metadata": {},
   "source": [
    "## Inspecting the different columns\n",
    "  \n",
    "Fortunately the creater of the dataset provided additional info for the different columns.  \n",
    "More information can be found [here](https://www.kaggle.com/c/titanic/data).\n",
    "\n",
    "### Pclass\n",
    "\n",
    "The class in which the passenger travelled.  \n",
    "For further improving the score of the Linear Regression Model, we will split the Pclass-column in 2 different columns with boolean values if the passenger had a first class ticket or a second class ticket."
   ]
  },
  {
   "cell_type": "code",
   "execution_count": 23,
   "metadata": {
    "ExecuteTime": {
     "end_time": "2020-06-08T11:29:35.189943Z",
     "start_time": "2020-06-08T11:29:35.181813Z"
    }
   },
   "outputs": [
    {
     "data": {
      "text/plain": [
       "array([3, 1, 2])"
      ]
     },
     "execution_count": 23,
     "metadata": {},
     "output_type": "execute_result"
    }
   ],
   "source": [
    "train.Pclass.unique()"
   ]
  },
  {
   "cell_type": "markdown",
   "metadata": {},
   "source": [
    "  ### SibSp  \n",
    "  \n",
    "The SibSp-Column indicated the amount of Silbings or Spouses on bord the HMS Titanic.  \n",
    "Basically everything which is on the same level (horizontally) in a pedigree."
   ]
  },
  {
   "cell_type": "code",
   "execution_count": 24,
   "metadata": {
    "ExecuteTime": {
     "end_time": "2020-06-08T11:29:35.199876Z",
     "start_time": "2020-06-08T11:29:35.192634Z"
    }
   },
   "outputs": [
    {
     "data": {
      "text/plain": [
       "array([1, 0, 3, 4, 2, 5, 8])"
      ]
     },
     "execution_count": 24,
     "metadata": {},
     "output_type": "execute_result"
    }
   ],
   "source": [
    "train.SibSp.unique()"
   ]
  },
  {
   "cell_type": "markdown",
   "metadata": {},
   "source": [
    "### Parch\n",
    "\n",
    "The Parch-Column shows the amount of parents and or children.  \n",
    "Basically everything which is above or below (vertically) the respective person in a pedigree."
   ]
  },
  {
   "cell_type": "code",
   "execution_count": 25,
   "metadata": {
    "ExecuteTime": {
     "end_time": "2020-06-08T11:29:35.210570Z",
     "start_time": "2020-06-08T11:29:35.202647Z"
    }
   },
   "outputs": [
    {
     "data": {
      "text/plain": [
       "array([0, 1, 2, 5, 3, 4, 6])"
      ]
     },
     "execution_count": 25,
     "metadata": {},
     "output_type": "execute_result"
    }
   ],
   "source": [
    "train.Parch.unique()"
   ]
  },
  {
   "cell_type": "markdown",
   "metadata": {},
   "source": [
    "### Other Columns:\n",
    "\n",
    "The other column seem to be irrelevant for now, because obviosly the Ticket number and Fare have no logical impact on the survival chances of a person.  \n",
    "Also neither the cabin number nor the embarked-column seem relevant here"
   ]
  },
  {
   "cell_type": "markdown",
   "metadata": {},
   "source": [
    "## Cleaning and Completing the data"
   ]
  },
  {
   "cell_type": "markdown",
   "metadata": {},
   "source": [
    "`SibSp` and `Parch` na-Values will be filled with `0`.  \n",
    "Male and Female will be translated to `1` and `0` respectively."
   ]
  },
  {
   "cell_type": "code",
   "execution_count": 26,
   "metadata": {
    "ExecuteTime": {
     "end_time": "2020-06-08T11:29:35.238825Z",
     "start_time": "2020-06-08T11:29:35.214501Z"
    }
   },
   "outputs": [
    {
     "data": {
      "text/html": [
       "<div>\n",
       "<style scoped>\n",
       "    .dataframe tbody tr th:only-of-type {\n",
       "        vertical-align: middle;\n",
       "    }\n",
       "\n",
       "    .dataframe tbody tr th {\n",
       "        vertical-align: top;\n",
       "    }\n",
       "\n",
       "    .dataframe thead th {\n",
       "        text-align: right;\n",
       "    }\n",
       "</style>\n",
       "<table border=\"1\" class=\"dataframe\">\n",
       "  <thead>\n",
       "    <tr style=\"text-align: right;\">\n",
       "      <th></th>\n",
       "      <th>PassengerId</th>\n",
       "      <th>Survived</th>\n",
       "      <th>Pclass</th>\n",
       "      <th>Name</th>\n",
       "      <th>Age</th>\n",
       "      <th>SibSp</th>\n",
       "      <th>Parch</th>\n",
       "      <th>Fare</th>\n",
       "      <th>Gender</th>\n",
       "    </tr>\n",
       "  </thead>\n",
       "  <tbody>\n",
       "    <tr>\n",
       "      <th>0</th>\n",
       "      <td>1</td>\n",
       "      <td>0</td>\n",
       "      <td>3</td>\n",
       "      <td>Braund, Mr. Owen Harris</td>\n",
       "      <td>22.0</td>\n",
       "      <td>1</td>\n",
       "      <td>0</td>\n",
       "      <td>7.2500</td>\n",
       "      <td>1</td>\n",
       "    </tr>\n",
       "    <tr>\n",
       "      <th>1</th>\n",
       "      <td>2</td>\n",
       "      <td>1</td>\n",
       "      <td>1</td>\n",
       "      <td>Cumings, Mrs. John Bradley (Florence Briggs Th...</td>\n",
       "      <td>38.0</td>\n",
       "      <td>1</td>\n",
       "      <td>0</td>\n",
       "      <td>71.2833</td>\n",
       "      <td>0</td>\n",
       "    </tr>\n",
       "    <tr>\n",
       "      <th>2</th>\n",
       "      <td>3</td>\n",
       "      <td>1</td>\n",
       "      <td>3</td>\n",
       "      <td>Heikkinen, Miss. Laina</td>\n",
       "      <td>26.0</td>\n",
       "      <td>0</td>\n",
       "      <td>0</td>\n",
       "      <td>7.9250</td>\n",
       "      <td>0</td>\n",
       "    </tr>\n",
       "    <tr>\n",
       "      <th>3</th>\n",
       "      <td>4</td>\n",
       "      <td>1</td>\n",
       "      <td>1</td>\n",
       "      <td>Futrelle, Mrs. Jacques Heath (Lily May Peel)</td>\n",
       "      <td>35.0</td>\n",
       "      <td>1</td>\n",
       "      <td>0</td>\n",
       "      <td>53.1000</td>\n",
       "      <td>0</td>\n",
       "    </tr>\n",
       "    <tr>\n",
       "      <th>4</th>\n",
       "      <td>5</td>\n",
       "      <td>0</td>\n",
       "      <td>3</td>\n",
       "      <td>Allen, Mr. William Henry</td>\n",
       "      <td>35.0</td>\n",
       "      <td>0</td>\n",
       "      <td>0</td>\n",
       "      <td>8.0500</td>\n",
       "      <td>1</td>\n",
       "    </tr>\n",
       "    <tr>\n",
       "      <th>5</th>\n",
       "      <td>6</td>\n",
       "      <td>0</td>\n",
       "      <td>3</td>\n",
       "      <td>Moran, Mr. James</td>\n",
       "      <td>28.0</td>\n",
       "      <td>0</td>\n",
       "      <td>0</td>\n",
       "      <td>8.4583</td>\n",
       "      <td>1</td>\n",
       "    </tr>\n",
       "    <tr>\n",
       "      <th>6</th>\n",
       "      <td>7</td>\n",
       "      <td>0</td>\n",
       "      <td>1</td>\n",
       "      <td>McCarthy, Mr. Timothy J</td>\n",
       "      <td>54.0</td>\n",
       "      <td>0</td>\n",
       "      <td>0</td>\n",
       "      <td>51.8625</td>\n",
       "      <td>1</td>\n",
       "    </tr>\n",
       "    <tr>\n",
       "      <th>7</th>\n",
       "      <td>8</td>\n",
       "      <td>0</td>\n",
       "      <td>3</td>\n",
       "      <td>Palsson, Master. Gosta Leonard</td>\n",
       "      <td>2.0</td>\n",
       "      <td>3</td>\n",
       "      <td>1</td>\n",
       "      <td>21.0750</td>\n",
       "      <td>1</td>\n",
       "    </tr>\n",
       "    <tr>\n",
       "      <th>8</th>\n",
       "      <td>9</td>\n",
       "      <td>1</td>\n",
       "      <td>3</td>\n",
       "      <td>Johnson, Mrs. Oscar W (Elisabeth Vilhelmina Berg)</td>\n",
       "      <td>27.0</td>\n",
       "      <td>0</td>\n",
       "      <td>2</td>\n",
       "      <td>11.1333</td>\n",
       "      <td>0</td>\n",
       "    </tr>\n",
       "    <tr>\n",
       "      <th>9</th>\n",
       "      <td>10</td>\n",
       "      <td>1</td>\n",
       "      <td>2</td>\n",
       "      <td>Nasser, Mrs. Nicholas (Adele Achem)</td>\n",
       "      <td>14.0</td>\n",
       "      <td>1</td>\n",
       "      <td>0</td>\n",
       "      <td>30.0708</td>\n",
       "      <td>0</td>\n",
       "    </tr>\n",
       "  </tbody>\n",
       "</table>\n",
       "</div>"
      ],
      "text/plain": [
       "   PassengerId  Survived  Pclass                                               Name   Age  SibSp  Parch     Fare  Gender\n",
       "0            1         0       3                            Braund, Mr. Owen Harris  22.0      1      0   7.2500       1\n",
       "1            2         1       1  Cumings, Mrs. John Bradley (Florence Briggs Th...  38.0      1      0  71.2833       0\n",
       "2            3         1       3                             Heikkinen, Miss. Laina  26.0      0      0   7.9250       0\n",
       "3            4         1       1       Futrelle, Mrs. Jacques Heath (Lily May Peel)  35.0      1      0  53.1000       0\n",
       "4            5         0       3                           Allen, Mr. William Henry  35.0      0      0   8.0500       1\n",
       "5            6         0       3                                   Moran, Mr. James  28.0      0      0   8.4583       1\n",
       "6            7         0       1                            McCarthy, Mr. Timothy J  54.0      0      0  51.8625       1\n",
       "7            8         0       3                     Palsson, Master. Gosta Leonard   2.0      3      1  21.0750       1\n",
       "8            9         1       3  Johnson, Mrs. Oscar W (Elisabeth Vilhelmina Berg)  27.0      0      2  11.1333       0\n",
       "9           10         1       2                Nasser, Mrs. Nicholas (Adele Achem)  14.0      1      0  30.0708       0"
      ]
     },
     "execution_count": 26,
     "metadata": {},
     "output_type": "execute_result"
    }
   ],
   "source": [
    "columns_to_drop_2 = [\"Ticket\", \"Cabin\", \"Embarked\", \"Sex\"]\n",
    "\n",
    "for df in [train, test]:\n",
    "    df[\"SibSp\"].fillna(0, inplace=True)\n",
    "    df[\"Parch\"].fillna(0, inplace=True)\n",
    "    df[\"Age\"].fillna(df[\"Age\"].median(), inplace=True)\n",
    "    df[\"Gender\"] = [1 if i == \"male\" else 0 for i in df[\"Sex\"]]\n",
    "    #df[\"isFirstClass\"] = [1 if i == 1 else 0 for i in df[\"Pclass\"]]\n",
    "    #df[\"isSecondClass\"] = [1 if i == 2 else 0 for i in df[\"Pclass\"]]\n",
    "    df.drop(columns_to_drop_2, axis=1, inplace=True)\n",
    "\n",
    "train.head(10)   "
   ]
  },
  {
   "cell_type": "markdown",
   "metadata": {},
   "source": [
    "## Feature Engineering\n",
    "\n",
    "### Social Circle\n",
    "  \n",
    "The first feature I will implement is the social circle, which is the sum of all silbings, spouses, children and parents on board."
   ]
  },
  {
   "cell_type": "code",
   "execution_count": 27,
   "metadata": {
    "ExecuteTime": {
     "end_time": "2020-06-08T11:29:35.273510Z",
     "start_time": "2020-06-08T11:29:35.249875Z"
    }
   },
   "outputs": [
    {
     "data": {
      "text/html": [
       "<div>\n",
       "<style scoped>\n",
       "    .dataframe tbody tr th:only-of-type {\n",
       "        vertical-align: middle;\n",
       "    }\n",
       "\n",
       "    .dataframe tbody tr th {\n",
       "        vertical-align: top;\n",
       "    }\n",
       "\n",
       "    .dataframe thead th {\n",
       "        text-align: right;\n",
       "    }\n",
       "</style>\n",
       "<table border=\"1\" class=\"dataframe\">\n",
       "  <thead>\n",
       "    <tr style=\"text-align: right;\">\n",
       "      <th></th>\n",
       "      <th>PassengerId</th>\n",
       "      <th>Survived</th>\n",
       "      <th>Pclass</th>\n",
       "      <th>Name</th>\n",
       "      <th>Age</th>\n",
       "      <th>SibSp</th>\n",
       "      <th>Parch</th>\n",
       "      <th>Fare</th>\n",
       "      <th>Gender</th>\n",
       "      <th>social</th>\n",
       "    </tr>\n",
       "  </thead>\n",
       "  <tbody>\n",
       "    <tr>\n",
       "      <th>0</th>\n",
       "      <td>1</td>\n",
       "      <td>0</td>\n",
       "      <td>3</td>\n",
       "      <td>Braund, Mr. Owen Harris</td>\n",
       "      <td>22.0</td>\n",
       "      <td>1</td>\n",
       "      <td>0</td>\n",
       "      <td>7.2500</td>\n",
       "      <td>1</td>\n",
       "      <td>1</td>\n",
       "    </tr>\n",
       "    <tr>\n",
       "      <th>1</th>\n",
       "      <td>2</td>\n",
       "      <td>1</td>\n",
       "      <td>1</td>\n",
       "      <td>Cumings, Mrs. John Bradley (Florence Briggs Th...</td>\n",
       "      <td>38.0</td>\n",
       "      <td>1</td>\n",
       "      <td>0</td>\n",
       "      <td>71.2833</td>\n",
       "      <td>0</td>\n",
       "      <td>1</td>\n",
       "    </tr>\n",
       "    <tr>\n",
       "      <th>2</th>\n",
       "      <td>3</td>\n",
       "      <td>1</td>\n",
       "      <td>3</td>\n",
       "      <td>Heikkinen, Miss. Laina</td>\n",
       "      <td>26.0</td>\n",
       "      <td>0</td>\n",
       "      <td>0</td>\n",
       "      <td>7.9250</td>\n",
       "      <td>0</td>\n",
       "      <td>0</td>\n",
       "    </tr>\n",
       "    <tr>\n",
       "      <th>3</th>\n",
       "      <td>4</td>\n",
       "      <td>1</td>\n",
       "      <td>1</td>\n",
       "      <td>Futrelle, Mrs. Jacques Heath (Lily May Peel)</td>\n",
       "      <td>35.0</td>\n",
       "      <td>1</td>\n",
       "      <td>0</td>\n",
       "      <td>53.1000</td>\n",
       "      <td>0</td>\n",
       "      <td>1</td>\n",
       "    </tr>\n",
       "    <tr>\n",
       "      <th>4</th>\n",
       "      <td>5</td>\n",
       "      <td>0</td>\n",
       "      <td>3</td>\n",
       "      <td>Allen, Mr. William Henry</td>\n",
       "      <td>35.0</td>\n",
       "      <td>0</td>\n",
       "      <td>0</td>\n",
       "      <td>8.0500</td>\n",
       "      <td>1</td>\n",
       "      <td>0</td>\n",
       "    </tr>\n",
       "    <tr>\n",
       "      <th>5</th>\n",
       "      <td>6</td>\n",
       "      <td>0</td>\n",
       "      <td>3</td>\n",
       "      <td>Moran, Mr. James</td>\n",
       "      <td>28.0</td>\n",
       "      <td>0</td>\n",
       "      <td>0</td>\n",
       "      <td>8.4583</td>\n",
       "      <td>1</td>\n",
       "      <td>0</td>\n",
       "    </tr>\n",
       "    <tr>\n",
       "      <th>6</th>\n",
       "      <td>7</td>\n",
       "      <td>0</td>\n",
       "      <td>1</td>\n",
       "      <td>McCarthy, Mr. Timothy J</td>\n",
       "      <td>54.0</td>\n",
       "      <td>0</td>\n",
       "      <td>0</td>\n",
       "      <td>51.8625</td>\n",
       "      <td>1</td>\n",
       "      <td>0</td>\n",
       "    </tr>\n",
       "    <tr>\n",
       "      <th>7</th>\n",
       "      <td>8</td>\n",
       "      <td>0</td>\n",
       "      <td>3</td>\n",
       "      <td>Palsson, Master. Gosta Leonard</td>\n",
       "      <td>2.0</td>\n",
       "      <td>3</td>\n",
       "      <td>1</td>\n",
       "      <td>21.0750</td>\n",
       "      <td>1</td>\n",
       "      <td>4</td>\n",
       "    </tr>\n",
       "    <tr>\n",
       "      <th>8</th>\n",
       "      <td>9</td>\n",
       "      <td>1</td>\n",
       "      <td>3</td>\n",
       "      <td>Johnson, Mrs. Oscar W (Elisabeth Vilhelmina Berg)</td>\n",
       "      <td>27.0</td>\n",
       "      <td>0</td>\n",
       "      <td>2</td>\n",
       "      <td>11.1333</td>\n",
       "      <td>0</td>\n",
       "      <td>2</td>\n",
       "    </tr>\n",
       "    <tr>\n",
       "      <th>9</th>\n",
       "      <td>10</td>\n",
       "      <td>1</td>\n",
       "      <td>2</td>\n",
       "      <td>Nasser, Mrs. Nicholas (Adele Achem)</td>\n",
       "      <td>14.0</td>\n",
       "      <td>1</td>\n",
       "      <td>0</td>\n",
       "      <td>30.0708</td>\n",
       "      <td>0</td>\n",
       "      <td>1</td>\n",
       "    </tr>\n",
       "  </tbody>\n",
       "</table>\n",
       "</div>"
      ],
      "text/plain": [
       "   PassengerId  Survived  Pclass                                               Name   Age  SibSp  Parch     Fare  Gender  social\n",
       "0            1         0       3                            Braund, Mr. Owen Harris  22.0      1      0   7.2500       1       1\n",
       "1            2         1       1  Cumings, Mrs. John Bradley (Florence Briggs Th...  38.0      1      0  71.2833       0       1\n",
       "2            3         1       3                             Heikkinen, Miss. Laina  26.0      0      0   7.9250       0       0\n",
       "3            4         1       1       Futrelle, Mrs. Jacques Heath (Lily May Peel)  35.0      1      0  53.1000       0       1\n",
       "4            5         0       3                           Allen, Mr. William Henry  35.0      0      0   8.0500       1       0\n",
       "5            6         0       3                                   Moran, Mr. James  28.0      0      0   8.4583       1       0\n",
       "6            7         0       1                            McCarthy, Mr. Timothy J  54.0      0      0  51.8625       1       0\n",
       "7            8         0       3                     Palsson, Master. Gosta Leonard   2.0      3      1  21.0750       1       4\n",
       "8            9         1       3  Johnson, Mrs. Oscar W (Elisabeth Vilhelmina Berg)  27.0      0      2  11.1333       0       2\n",
       "9           10         1       2                Nasser, Mrs. Nicholas (Adele Achem)  14.0      1      0  30.0708       0       1"
      ]
     },
     "execution_count": 27,
     "metadata": {},
     "output_type": "execute_result"
    }
   ],
   "source": [
    "for df in [train, test]:\n",
    "    df[\"social\"] = df[\"SibSp\"] + df[\"Parch\"]\n",
    "\n",
    "train.head(10)"
   ]
  },
  {
   "cell_type": "markdown",
   "metadata": {},
   "source": [
    "### Passanger Class \n",
    "\n",
    "Like mentioned above, we will split the `Pclass`-column into two \"boolean\"-columns."
   ]
  },
  {
   "cell_type": "code",
   "execution_count": 28,
   "metadata": {
    "ExecuteTime": {
     "end_time": "2020-06-08T11:29:35.303240Z",
     "start_time": "2020-06-08T11:29:35.280371Z"
    }
   },
   "outputs": [
    {
     "data": {
      "text/html": [
       "<div>\n",
       "<style scoped>\n",
       "    .dataframe tbody tr th:only-of-type {\n",
       "        vertical-align: middle;\n",
       "    }\n",
       "\n",
       "    .dataframe tbody tr th {\n",
       "        vertical-align: top;\n",
       "    }\n",
       "\n",
       "    .dataframe thead th {\n",
       "        text-align: right;\n",
       "    }\n",
       "</style>\n",
       "<table border=\"1\" class=\"dataframe\">\n",
       "  <thead>\n",
       "    <tr style=\"text-align: right;\">\n",
       "      <th></th>\n",
       "      <th>PassengerId</th>\n",
       "      <th>Survived</th>\n",
       "      <th>Name</th>\n",
       "      <th>Age</th>\n",
       "      <th>SibSp</th>\n",
       "      <th>Parch</th>\n",
       "      <th>Fare</th>\n",
       "      <th>Gender</th>\n",
       "      <th>social</th>\n",
       "      <th>isFirstClass</th>\n",
       "      <th>isSecondClass</th>\n",
       "    </tr>\n",
       "  </thead>\n",
       "  <tbody>\n",
       "    <tr>\n",
       "      <th>0</th>\n",
       "      <td>1</td>\n",
       "      <td>0</td>\n",
       "      <td>Braund, Mr. Owen Harris</td>\n",
       "      <td>22.0</td>\n",
       "      <td>1</td>\n",
       "      <td>0</td>\n",
       "      <td>7.2500</td>\n",
       "      <td>1</td>\n",
       "      <td>1</td>\n",
       "      <td>0</td>\n",
       "      <td>0</td>\n",
       "    </tr>\n",
       "    <tr>\n",
       "      <th>1</th>\n",
       "      <td>2</td>\n",
       "      <td>1</td>\n",
       "      <td>Cumings, Mrs. John Bradley (Florence Briggs Th...</td>\n",
       "      <td>38.0</td>\n",
       "      <td>1</td>\n",
       "      <td>0</td>\n",
       "      <td>71.2833</td>\n",
       "      <td>0</td>\n",
       "      <td>1</td>\n",
       "      <td>1</td>\n",
       "      <td>0</td>\n",
       "    </tr>\n",
       "    <tr>\n",
       "      <th>2</th>\n",
       "      <td>3</td>\n",
       "      <td>1</td>\n",
       "      <td>Heikkinen, Miss. Laina</td>\n",
       "      <td>26.0</td>\n",
       "      <td>0</td>\n",
       "      <td>0</td>\n",
       "      <td>7.9250</td>\n",
       "      <td>0</td>\n",
       "      <td>0</td>\n",
       "      <td>0</td>\n",
       "      <td>0</td>\n",
       "    </tr>\n",
       "    <tr>\n",
       "      <th>3</th>\n",
       "      <td>4</td>\n",
       "      <td>1</td>\n",
       "      <td>Futrelle, Mrs. Jacques Heath (Lily May Peel)</td>\n",
       "      <td>35.0</td>\n",
       "      <td>1</td>\n",
       "      <td>0</td>\n",
       "      <td>53.1000</td>\n",
       "      <td>0</td>\n",
       "      <td>1</td>\n",
       "      <td>1</td>\n",
       "      <td>0</td>\n",
       "    </tr>\n",
       "    <tr>\n",
       "      <th>4</th>\n",
       "      <td>5</td>\n",
       "      <td>0</td>\n",
       "      <td>Allen, Mr. William Henry</td>\n",
       "      <td>35.0</td>\n",
       "      <td>0</td>\n",
       "      <td>0</td>\n",
       "      <td>8.0500</td>\n",
       "      <td>1</td>\n",
       "      <td>0</td>\n",
       "      <td>0</td>\n",
       "      <td>0</td>\n",
       "    </tr>\n",
       "  </tbody>\n",
       "</table>\n",
       "</div>"
      ],
      "text/plain": [
       "   PassengerId  Survived                                               Name   Age  SibSp  Parch     Fare  Gender  social  isFirstClass  isSecondClass\n",
       "0            1         0                            Braund, Mr. Owen Harris  22.0      1      0   7.2500       1       1             0              0\n",
       "1            2         1  Cumings, Mrs. John Bradley (Florence Briggs Th...  38.0      1      0  71.2833       0       1             1              0\n",
       "2            3         1                             Heikkinen, Miss. Laina  26.0      0      0   7.9250       0       0             0              0\n",
       "3            4         1       Futrelle, Mrs. Jacques Heath (Lily May Peel)  35.0      1      0  53.1000       0       1             1              0\n",
       "4            5         0                           Allen, Mr. William Henry  35.0      0      0   8.0500       1       0             0              0"
      ]
     },
     "execution_count": 28,
     "metadata": {},
     "output_type": "execute_result"
    }
   ],
   "source": [
    "for df in [train,test]:\n",
    "    df[\"isFirstClass\"] = [1 if i == 1 else 0 for i in df[\"Pclass\"]]\n",
    "    df[\"isSecondClass\"]= [1 if i == 2 else 0 for i in df[\"Pclass\"]]\n",
    "    df.drop(\"Pclass\", axis=1, inplace=True)\n",
    "\n",
    "train.head(5)"
   ]
  },
  {
   "cell_type": "markdown",
   "metadata": {},
   "source": [
    "## Train Test Split"
   ]
  },
  {
   "cell_type": "code",
   "execution_count": 29,
   "metadata": {
    "ExecuteTime": {
     "end_time": "2020-06-08T11:29:35.318843Z",
     "start_time": "2020-06-08T11:29:35.305781Z"
    }
   },
   "outputs": [
    {
     "data": {
      "text/plain": [
       "(      Age  Gender  social  isFirstClass  isSecondClass\n",
       " 0    22.0       1       1             0              0\n",
       " 1    38.0       0       1             1              0\n",
       " 2    26.0       0       0             0              0\n",
       " 3    35.0       0       1             1              0\n",
       " 4    35.0       1       0             0              0\n",
       " ..    ...     ...     ...           ...            ...\n",
       " 886  27.0       1       0             0              1\n",
       " 887  19.0       0       0             1              0\n",
       " 888  28.0       0       3             0              0\n",
       " 889  26.0       1       0             1              0\n",
       " 890  32.0       1       0             0              0\n",
       " \n",
       " [891 rows x 5 columns],\n",
       " 0      0\n",
       " 1      1\n",
       " 2      1\n",
       " 3      1\n",
       " 4      0\n",
       "       ..\n",
       " 886    0\n",
       " 887    1\n",
       " 888    0\n",
       " 889    1\n",
       " 890    0\n",
       " Name: Survived, Length: 891, dtype: int64)"
      ]
     },
     "execution_count": 29,
     "metadata": {},
     "output_type": "execute_result"
    }
   ],
   "source": [
    "features = train[[\"Age\", \"Gender\", \"social\", \"isFirstClass\", \"isSecondClass\"]]\n",
    "targets = train[\"Survived\"]\n",
    "\n",
    "features, targets"
   ]
  },
  {
   "cell_type": "code",
   "execution_count": 31,
   "metadata": {
    "ExecuteTime": {
     "end_time": "2020-06-08T11:30:12.468096Z",
     "start_time": "2020-06-08T11:30:12.457581Z"
    }
   },
   "outputs": [],
   "source": [
    "X_train, X_test, y_train, y_test = train_test_split(features, targets)"
   ]
  },
  {
   "cell_type": "markdown",
   "metadata": {},
   "source": [
    "## Logisitc Regression Model\n",
    "\n",
    "### Model Creation\n",
    "\n",
    "After the data is scaled we create our Logistic Regression Model and fit it with the training features (`X_train`) and training labels (`y_train`)."
   ]
  },
  {
   "cell_type": "code",
   "execution_count": 32,
   "metadata": {
    "ExecuteTime": {
     "end_time": "2020-06-08T11:30:41.884491Z",
     "start_time": "2020-06-08T11:30:41.851434Z"
    }
   },
   "outputs": [
    {
     "data": {
      "text/plain": [
       "LogisticRegression(C=1.0, class_weight=None, dual=False, fit_intercept=True,\n",
       "                   intercept_scaling=1, l1_ratio=None, max_iter=100,\n",
       "                   multi_class='auto', n_jobs=None, penalty='l2',\n",
       "                   random_state=None, solver='lbfgs', tol=0.0001, verbose=0,\n",
       "                   warm_start=False)"
      ]
     },
     "execution_count": 32,
     "metadata": {},
     "output_type": "execute_result"
    }
   ],
   "source": [
    "new_model = LogisticRegression()\n",
    "new_model.fit(X_train, y_train)"
   ]
  },
  {
   "cell_type": "code",
   "execution_count": 33,
   "metadata": {
    "ExecuteTime": {
     "end_time": "2020-06-08T11:30:53.342240Z",
     "start_time": "2020-06-08T11:30:53.331993Z"
    }
   },
   "outputs": [
    {
     "data": {
      "text/plain": [
       "0.8008982035928144"
      ]
     },
     "execution_count": 33,
     "metadata": {},
     "output_type": "execute_result"
    }
   ],
   "source": [
    "new_model.score(X_train, y_train)"
   ]
  },
  {
   "cell_type": "code",
   "execution_count": 34,
   "metadata": {
    "ExecuteTime": {
     "end_time": "2020-06-08T11:31:01.427301Z",
     "start_time": "2020-06-08T11:31:01.415569Z"
    }
   },
   "outputs": [
    {
     "data": {
      "text/plain": [
       "0.820627802690583"
      ]
     },
     "execution_count": 34,
     "metadata": {},
     "output_type": "execute_result"
    }
   ],
   "source": [
    "new_model.score(X_test, y_test)"
   ]
  },
  {
   "cell_type": "code",
   "execution_count": null,
   "metadata": {},
   "outputs": [],
   "source": []
  }
 ],
 "metadata": {
  "colab": {
   "authorship_tag": "ABX9TyONv7ubgHUXlyduuKfZNqIH",
   "name": "Titantic.ipynb",
   "provenance": []
  },
  "kernelspec": {
   "display_name": "Python 3",
   "language": "python",
   "name": "python3"
  },
  "language_info": {
   "codemirror_mode": {
    "name": "ipython",
    "version": 3
   },
   "file_extension": ".py",
   "mimetype": "text/x-python",
   "name": "python",
   "nbconvert_exporter": "python",
   "pygments_lexer": "ipython3",
   "version": "3.7.6"
  },
  "toc": {
   "base_numbering": 1,
   "nav_menu": {},
   "number_sections": true,
   "sideBar": true,
   "skip_h1_title": false,
   "title_cell": "Table of Contents",
   "title_sidebar": "Contents",
   "toc_cell": false,
   "toc_position": {},
   "toc_section_display": true,
   "toc_window_display": false
  },
  "varInspector": {
   "cols": {
    "lenName": 16,
    "lenType": 16,
    "lenVar": 40
   },
   "kernels_config": {
    "python": {
     "delete_cmd_postfix": "",
     "delete_cmd_prefix": "del ",
     "library": "var_list.py",
     "varRefreshCmd": "print(var_dic_list())"
    },
    "r": {
     "delete_cmd_postfix": ") ",
     "delete_cmd_prefix": "rm(",
     "library": "var_list.r",
     "varRefreshCmd": "cat(var_dic_list()) "
    }
   },
   "types_to_exclude": [
    "module",
    "function",
    "builtin_function_or_method",
    "instance",
    "_Feature"
   ],
   "window_display": false
  }
 },
 "nbformat": 4,
 "nbformat_minor": 1
}
